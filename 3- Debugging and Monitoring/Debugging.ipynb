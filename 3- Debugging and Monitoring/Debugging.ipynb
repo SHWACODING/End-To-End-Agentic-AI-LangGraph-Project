{
 "cells": [
  {
   "cell_type": "markdown",
   "id": "8d3118c2",
   "metadata": {},
   "source": [
    "#### Setting All Environment Variables With LangSmith Settings ??"
   ]
  },
  {
   "cell_type": "code",
   "execution_count": 1,
   "id": "a0af37d7",
   "metadata": {},
   "outputs": [],
   "source": [
    "import os\n",
    "from dotenv import load_dotenv\n",
    "\n",
    "load_dotenv()\n",
    "\n",
    "os.environ[\"GROQ_API_KEY\"] = os.getenv(\"GROQ_API_KEY\")\n",
    "\n",
    "os.environ[\"LANGSMITH_API_KEY\"] = os.getenv(\"LANGSMITH_API_KEY\")\n",
    "os.environ[\"LANGSMITH_PROJECT\"] = \"LangGraphMonitoring\"\n",
    "os.environ[\"LANGSMITH_TRACING\"]=\"true\""
   ]
  },
  {
   "cell_type": "markdown",
   "id": "6d18fc4b",
   "metadata": {},
   "source": [
    "#### Initialize The LLM ??"
   ]
  },
  {
   "cell_type": "code",
   "execution_count": 2,
   "id": "0e33083d",
   "metadata": {},
   "outputs": [
    {
     "data": {
      "text/plain": [
       "ChatGroq(client=<groq.resources.chat.completions.Completions object at 0x000002021C00C050>, async_client=<groq.resources.chat.completions.AsyncCompletions object at 0x000002021C105FD0>, model_name='llama-3.3-70b-versatile', model_kwargs={}, groq_api_key=SecretStr('**********'))"
      ]
     },
     "execution_count": 2,
     "metadata": {},
     "output_type": "execute_result"
    }
   ],
   "source": [
    "from langchain.chat_models import init_chat_model\n",
    "\n",
    "llm = init_chat_model(model=\"groq:llama-3.3-70b-versatile\")\n",
    "\n",
    "llm"
   ]
  },
  {
   "cell_type": "markdown",
   "id": "459e600f",
   "metadata": {},
   "source": [
    "#### ALL Imports ??"
   ]
  },
  {
   "cell_type": "code",
   "execution_count": 3,
   "id": "c52d53b8",
   "metadata": {},
   "outputs": [],
   "source": [
    "from typing import List, Annotated\n",
    "from typing_extensions import TypedDict\n",
    "from langgraph.graph.message import add_messages\n",
    "\n",
    "from langgraph.graph import END, START\n",
    "from langgraph.graph.state import StateGraph\n",
    "from langchain_core.tools import tool\n",
    "from langgraph.prebuilt import ToolNode, tools_condition\n",
    "from langchain_core.messages import BaseMessage"
   ]
  },
  {
   "cell_type": "markdown",
   "id": "667d2784",
   "metadata": {},
   "source": [
    "#### Define Our State Pydanic Schema ??"
   ]
  },
  {
   "cell_type": "code",
   "execution_count": 4,
   "id": "60bb7181",
   "metadata": {},
   "outputs": [],
   "source": [
    "class State(TypedDict):\n",
    "    messages: Annotated[List[BaseMessage], add_messages]"
   ]
  },
  {
   "cell_type": "markdown",
   "id": "aae6ea67",
   "metadata": {},
   "source": [
    "#### Create My Custom Tool ??"
   ]
  },
  {
   "cell_type": "code",
   "execution_count": 5,
   "id": "3fa6cff0",
   "metadata": {},
   "outputs": [],
   "source": [
    "@tool\n",
    "def add(a: float, b: float) -> float:\n",
    "    \"\"\"Add two numbers.\"\"\"\n",
    "    return a + b"
   ]
  },
  {
   "cell_type": "code",
   "execution_count": 6,
   "id": "4e61d536",
   "metadata": {},
   "outputs": [],
   "source": [
    "## Initialize the tool node with the custom tool\n",
    "tools = [add]\n",
    "tool_node = ToolNode(tools=tools)"
   ]
  },
  {
   "cell_type": "code",
   "execution_count": 7,
   "id": "304c2a37",
   "metadata": {},
   "outputs": [],
   "source": [
    "## Bind The tool node to the llm\n",
    "llm_with_tools = llm.bind_tools(tools=tools)"
   ]
  },
  {
   "cell_type": "code",
   "execution_count": 8,
   "id": "53c4b7ac",
   "metadata": {},
   "outputs": [],
   "source": [
    "## Node Defination For Calling the LLM ??\n",
    "def call_llm_model(state: State):\n",
    "    return {\n",
    "        \"messages\": [llm_with_tools.invoke(state[\"messages\"])]\n",
    "    }"
   ]
  },
  {
   "cell_type": "markdown",
   "id": "ce574ffa",
   "metadata": {},
   "source": [
    "#### Build The Graph ??"
   ]
  },
  {
   "cell_type": "code",
   "execution_count": 9,
   "id": "8ffee840",
   "metadata": {},
   "outputs": [],
   "source": [
    "## Initialize the state graph\n",
    "graph_builder = StateGraph(State)"
   ]
  },
  {
   "cell_type": "code",
   "execution_count": 10,
   "id": "8c1f7e1b",
   "metadata": {},
   "outputs": [
    {
     "data": {
      "text/plain": [
       "<langgraph.graph.state.StateGraph at 0x2021c137980>"
      ]
     },
     "execution_count": 10,
     "metadata": {},
     "output_type": "execute_result"
    }
   ],
   "source": [
    "## ADD All nodes to the graph\n",
    "graph_builder.add_node(\"Call LLM\", call_llm_model)\n",
    "graph_builder.add_node(\"tools\", tool_node)"
   ]
  },
  {
   "cell_type": "code",
   "execution_count": 11,
   "id": "7f1aeed3",
   "metadata": {},
   "outputs": [
    {
     "data": {
      "text/plain": [
       "<langgraph.graph.state.StateGraph at 0x2021c137980>"
      ]
     },
     "execution_count": 11,
     "metadata": {},
     "output_type": "execute_result"
    }
   ],
   "source": [
    "## ADD All Edges to the graph\n",
    "graph_builder.add_edge(START, \"Call LLM\")\n",
    "graph_builder.add_conditional_edges(\n",
    "    \"Call LLM\",\n",
    "    # If the latest message (result) from assistant is a tool call -> tools_condition routes to tools\n",
    "    # If the latest message (result) from assistant is a not a tool call -> tools_condition routes to END\n",
    "    tools_condition\n",
    ")\n",
    "graph_builder.add_edge(\"tools\", END)"
   ]
  },
  {
   "cell_type": "code",
   "execution_count": 13,
   "id": "99136bba",
   "metadata": {},
   "outputs": [],
   "source": [
    "## Compile the graph\n",
    "graph = graph_builder.compile()"
   ]
  },
  {
   "cell_type": "code",
   "execution_count": 14,
   "id": "1d9d7702",
   "metadata": {},
   "outputs": [
    {
     "data": {
      "image/png": "[encoded data removed]",
      "text/plain": [
       "<IPython.core.display.Image object>"
      ]
     },
     "metadata": {},
     "output_type": "display_data"
    }
   ],
   "source": [
    "## Display the graph\n",
    "from IPython.display import display, Image\n",
    "\n",
    "display(Image(graph.get_graph().draw_mermaid_png()))"
   ]
  },
  {
   "cell_type": "code",
   "execution_count": 15,
   "id": "157b0a61",
   "metadata": {},
   "outputs": [
    {
     "data": {
      "text/plain": [
       "{'messages': [HumanMessage(content='What is machine learning', additional_kwargs={}, response_metadata={}, id='7ff20c7e-6ea3-433f-81a5-b8db6126b609'),\n",
       "  AIMessage(content='Machine learning is a subfield of artificial intelligence (AI) that involves the use of algorithms and statistical models to enable machines to perform a specific task without using explicit instructions. Instead, the machine learns from data, making predictions or decisions based on that data.\\n\\nThere are several types of machine learning, including:\\n\\n1. Supervised learning: The machine is trained on labeled data, where the correct output is already known.\\n2. Unsupervised learning: The machine is trained on unlabeled data, and it must find patterns or structure in the data on its own.\\n3. Reinforcement learning: The machine learns by interacting with an environment and receiving rewards or penalties for its actions.\\n\\nMachine learning has many applications, including:\\n\\n1. Image and speech recognition\\n2. Natural language processing\\n3. Predictive modeling\\n4. Recommendation systems\\n5. Autonomous vehicles\\n\\nSome common machine learning algorithms include:\\n\\n1. Linear regression\\n2. Decision trees\\n3. Random forests\\n4. Support vector machines\\n5. Neural networks\\n\\nMachine learning has the potential to revolutionize many industries, including healthcare, finance, and transportation. However, it also raises important questions about bias, fairness, and transparency in decision-making.', additional_kwargs={}, response_metadata={'token_usage': {'completion_tokens': 244, 'prompt_tokens': 216, 'total_tokens': 460, 'completion_time': 0.564230475, 'prompt_time': 0.024097497, 'queue_time': 0.08745138000000001, 'total_time': 0.588327972}, 'model_name': 'llama-3.3-70b-versatile', 'system_fingerprint': 'fp_6507bcfb6f', 'service_tier': 'on_demand', 'finish_reason': 'stop', 'logprobs': None}, id='run--5e193640-f68d-43a2-b883-e909938a08bf-0', usage_metadata={'input_tokens': 216, 'output_tokens': 244, 'total_tokens': 460})]}"
      ]
     },
     "execution_count": 15,
     "metadata": {},
     "output_type": "execute_result"
    }
   ],
   "source": [
    "response = graph.invoke({\"messages\":\"What is machine learning\"})\n",
    "\n",
    "response"
   ]
  },
  {
   "cell_type": "code",
   "execution_count": 16,
   "id": "bf485552",
   "metadata": {},
   "outputs": [
    {
     "name": "stdout",
     "output_type": "stream",
     "text": [
      "Machine learning is a subfield of artificial intelligence (AI) that involves the use of algorithms and statistical models to enable machines to perform a specific task without using explicit instructions. Instead, the machine learns from data, making predictions or decisions based on that data.\n",
      "\n",
      "There are several types of machine learning, including:\n",
      "\n",
      "1. Supervised learning: The machine is trained on labeled data, where the correct output is already known.\n",
      "2. Unsupervised learning: The machine is trained on unlabeled data, and it must find patterns or structure in the data on its own.\n",
      "3. Reinforcement learning: The machine learns by interacting with an environment and receiving rewards or penalties for its actions.\n",
      "\n",
      "Machine learning has many applications, including:\n",
      "\n",
      "1. Image and speech recognition\n",
      "2. Natural language processing\n",
      "3. Predictive modeling\n",
      "4. Recommendation systems\n",
      "5. Autonomous vehicles\n",
      "\n",
      "Some common machine learning algorithms include:\n",
      "\n",
      "1. Linear regression\n",
      "2. Decision trees\n",
      "3. Random forests\n",
      "4. Support vector machines\n",
      "5. Neural networks\n",
      "\n",
      "Machine learning has the potential to revolutionize many industries, including healthcare, finance, and transportation. However, it also raises important questions about bias, fairness, and transparency in decision-making.\n"
     ]
    }
   ],
   "source": [
    "print(response[\"messages\"][-1].content)"
   ]
  },
  {
   "cell_type": "code",
   "execution_count": 18,
   "id": "6740cb6f",
   "metadata": {},
   "outputs": [
    {
     "name": "stdout",
     "output_type": "stream",
     "text": [
      "4463.0\n"
     ]
    }
   ],
   "source": [
    "response = graph.invoke({\"messages\":\"Compute 3211 + 1252 and then explain me what is Quantum Machine Learning?\"})\n",
    "\n",
    "print(response[\"messages\"][-1].content)"
   ]
  },
  {
   "cell_type": "code",
   "execution_count": 19,
   "id": "2322a679",
   "metadata": {},
   "outputs": [
    {
     "data": {
      "text/plain": [
       "{'messages': [HumanMessage(content='Compute 3211 + 1252 and then explain me what is Quantum Machine Learning?', additional_kwargs={}, response_metadata={}, id='107f290c-dce9-4989-bde5-5c9d2c960562'),\n",
       "  AIMessage(content='', additional_kwargs={'tool_calls': [{'id': '26hed274n', 'function': {'arguments': '{\"a\":3211,\"b\":1252}', 'name': 'add'}, 'type': 'function'}]}, response_metadata={'token_usage': {'completion_tokens': 115, 'prompt_tokens': 230, 'total_tokens': 345, 'completion_time': 0.304297404, 'prompt_time': 0.024450943, 'queue_time': 0.084467468, 'total_time': 0.328748347}, 'model_name': 'llama-3.3-70b-versatile', 'system_fingerprint': 'fp_9a8b91ba77', 'service_tier': 'on_demand', 'finish_reason': 'tool_calls', 'logprobs': None}, id='run--fa0a97d4-23a3-44c4-8aac-d9323d815d0e-0', tool_calls=[{'name': 'add', 'args': {'a': 3211, 'b': 1252}, 'id': '26hed274n', 'type': 'tool_call'}], usage_metadata={'input_tokens': 230, 'output_tokens': 115, 'total_tokens': 345}),\n",
       "  ToolMessage(content='4463.0', name='add', id='a12b4d71-73ec-46f3-ade3-99db1a627e71', tool_call_id='26hed274n')]}"
      ]
     },
     "execution_count": 19,
     "metadata": {},
     "output_type": "execute_result"
    }
   ],
   "source": [
    "response"
   ]
  },
  {
   "cell_type": "code",
   "execution_count": 20,
   "id": "c9da0805",
   "metadata": {},
   "outputs": [
    {
     "data": {
      "text/plain": [
       "{'messages': [HumanMessage(content='What is 65 plus 35?', additional_kwargs={}, response_metadata={}, id='657f6310-4735-441b-8d8f-9cf6c2fda6ad'),\n",
       "  AIMessage(content='', additional_kwargs={'tool_calls': [{'id': 'ac14b61ps', 'function': {'arguments': '{\"a\":65,\"b\":35}', 'name': 'add'}, 'type': 'function'}]}, response_metadata={'token_usage': {'completion_tokens': 15, 'prompt_tokens': 220, 'total_tokens': 235, 'completion_time': 0.039018582, 'prompt_time': 0.025432278, 'queue_time': 0.086150322, 'total_time': 0.06445086}, 'model_name': 'llama-3.3-70b-versatile', 'system_fingerprint': 'fp_3f3b593e33', 'service_tier': 'on_demand', 'finish_reason': 'tool_calls', 'logprobs': None}, id='run--0532e13f-fde4-4dd4-b411-9e48451d83ce-0', tool_calls=[{'name': 'add', 'args': {'a': 65, 'b': 35}, 'id': 'ac14b61ps', 'type': 'tool_call'}], usage_metadata={'input_tokens': 220, 'output_tokens': 15, 'total_tokens': 235}),\n",
       "  ToolMessage(content='100.0', name='add', id='cce4180b-e03b-4452-a96c-ac35b78802ee', tool_call_id='ac14b61ps')]}"
      ]
     },
     "execution_count": 20,
     "metadata": {},
     "output_type": "execute_result"
    }
   ],
   "source": [
    "response = graph.invoke({\"messages\":\"What is 65 plus 35?\"})\n",
    "\n",
    "response"
   ]
  },
  {
   "cell_type": "code",
   "execution_count": 21,
   "id": "c36885e9",
   "metadata": {},
   "outputs": [
    {
     "name": "stdout",
     "output_type": "stream",
     "text": [
      "100.0\n"
     ]
    }
   ],
   "source": [
    "print(response[\"messages\"][-1].content)"
   ]
  },
  {
   "cell_type": "code",
   "execution_count": null,
   "id": "77e305ed",
   "metadata": {},
   "outputs": [],
   "source": []
  }
 ],
 "metadata": {
  "kernelspec": {
   "display_name": "End-To-End LangGraph and MCP Agentic AI Project",
   "language": "python",
   "name": "python3"
  },
  "language_info": {
   "codemirror_mode": {
    "name": "ipython",
    "version": 3
   },
   "file_extension": ".py",
   "mimetype": "text/x-python",
   "name": "python",
   "nbconvert_exporter": "python",
   "pygments_lexer": "ipython3",
   "version": "3.12.11"
  }
 },
 "nbformat": 4,
 "nbformat_minor": 5
}
