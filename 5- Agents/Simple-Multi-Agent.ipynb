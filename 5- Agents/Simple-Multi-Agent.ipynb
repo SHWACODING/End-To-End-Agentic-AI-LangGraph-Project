{
 "cells": [
  {
   "cell_type": "markdown",
   "id": "de82ed4b",
   "metadata": {},
   "source": [
    "### Simple MultiAI Agent Architecture..."
   ]
  },
  {
   "cell_type": "code",
   "execution_count": 1,
   "id": "5c9ea75d",
   "metadata": {},
   "outputs": [],
   "source": [
    "import os\n",
    "from dotenv import load_dotenv\n",
    "\n",
    "load_dotenv()\n",
    "\n",
    "os.environ[\"GROQ_API_KEY\"] = os.getenv(\"GROQ_API_KEY\")\n",
    "os.environ[\"TAVILY_API_KEY\"] = os.getenv(\"TAVILY_API_KEY\")"
   ]
  },
  {
   "cell_type": "code",
   "execution_count": 2,
   "id": "3b094612",
   "metadata": {},
   "outputs": [
    {
     "data": {
      "text/plain": [
       "ChatGroq(client=<groq.resources.chat.completions.Completions object at 0x00000218B142CB60>, async_client=<groq.resources.chat.completions.AsyncCompletions object at 0x00000218B136A6C0>, model_name='llama-3.3-70b-versatile', model_kwargs={}, groq_api_key=SecretStr('**********'))"
      ]
     },
     "execution_count": 2,
     "metadata": {},
     "output_type": "execute_result"
    }
   ],
   "source": [
    "from langchain.chat_models import init_chat_model\n",
    "\n",
    "llm = init_chat_model(model=\"groq:llama-3.3-70b-versatile\")\n",
    "\n",
    "llm"
   ]
  },
  {
   "cell_type": "code",
   "execution_count": 3,
   "id": "aa6f3e29",
   "metadata": {},
   "outputs": [],
   "source": [
    "from typing import TypedDict, Annotated, List, Literal\n",
    "\n",
    "from langchain_core.messages import BaseMessage, HumanMessage, AIMessage, SystemMessage\n",
    "from langchain_core.tools import tool\n",
    "from langchain_community.tools.tavily_search import TavilySearchResults\n",
    "\n",
    "from langgraph.graph import StateGraph, MessagesState, END\n",
    "from langgraph.prebuilt import ToolNode, create_react_agent\n",
    "from langgraph.checkpoint.memory import MemorySaver"
   ]
  },
  {
   "cell_type": "code",
   "execution_count": 4,
   "id": "3026c67e",
   "metadata": {},
   "outputs": [],
   "source": [
    "## Define the state\n",
    "class AgentState(MessagesState):\n",
    "    next_agent:str   # which agent should go next"
   ]
  },
  {
   "cell_type": "code",
   "execution_count": 5,
   "id": "cac38c7f",
   "metadata": {},
   "outputs": [],
   "source": [
    "## Create Web Search Tool\n",
    "\n",
    "@tool\n",
    "def search_web(query: str) -> str:\n",
    "    \"\"\"\n",
    "    Search the web for a query.\n",
    "    \"\"\"\n",
    "    search = TavilySearchResults(max_results=3)\n",
    "    \n",
    "    results = search.invoke(query)\n",
    "    \n",
    "    return str(results)"
   ]
  },
  {
   "cell_type": "code",
   "execution_count": 6,
   "id": "8ab21ff5",
   "metadata": {},
   "outputs": [],
   "source": [
    "## Create a Writer Summary Tool\n",
    "\n",
    "@tool\n",
    "def write_summary(content: str) -> str:\n",
    "    \"\"\"\n",
    "    Write a summary of the provided content.\n",
    "    \"\"\"\n",
    "    # Simple summary generation\n",
    "    summary = f\"📝Summary of findings:\\n\\n{content[:500]}...\"\n",
    "    \n",
    "    return summary"
   ]
  },
  {
   "cell_type": "code",
   "execution_count": 7,
   "id": "776ef26e",
   "metadata": {},
   "outputs": [],
   "source": [
    "## Define the Web Search agent that uses the search_web tool\n",
    "def researcher_agent(state: AgentState):\n",
    "    \"\"\"\n",
    "    Researcher agent that searches for user queries using the search_web tool.\n",
    "    \"\"\"\n",
    "    \n",
    "    messages = state[\"messages\"]\n",
    "    \n",
    "    # Add system message for context\n",
    "    system_msg = SystemMessage(content=\"You are a research assistant. Use the search_web tool to find information about the user's request.\")\n",
    "    \n",
    "    # Define LLM with search_web tool\n",
    "    researcher_llm = llm.bind_tools([search_web])\n",
    "    \n",
    "    # Call the LLM with the system message and user messages\n",
    "    response = researcher_llm.invoke([system_msg] + messages)\n",
    "    \n",
    "    # Return the response and route to writer\n",
    "    return {\n",
    "        \"messages\": [response],\n",
    "        \"next_agent\": \"Writer\"\n",
    "    }"
   ]
  },
  {
   "cell_type": "code",
   "execution_count": 8,
   "id": "fbf286d3",
   "metadata": {},
   "outputs": [],
   "source": [
    "## Define the Writer agent that summarizes the search results\n",
    "def writer_agent(state: AgentState):\n",
    "    \"\"\"\n",
    "    Writer agent that creates summaries\n",
    "    \"\"\"\n",
    "    \n",
    "    messages = state[\"messages\"]\n",
    "    \n",
    "    # Add system message\n",
    "    system_msg = SystemMessage(content=\"You are a technical writer. Review the conversation and create a clear, concise summary of the findings.\")\n",
    "    \n",
    "    # Simple completion without tools\n",
    "    response = llm.invoke([system_msg] + messages)\n",
    "    \n",
    "    return {\n",
    "        \"messages\": [response],\n",
    "        \"next_agent\": \"end\"\n",
    "    }"
   ]
  },
  {
   "cell_type": "code",
   "execution_count": 9,
   "id": "620a8bc8",
   "metadata": {},
   "outputs": [],
   "source": [
    "# # Tool executor node\n",
    "# def tool_executor(state: AgentState):\n",
    "#     \"\"\"\n",
    "#     Executes any pending tool calls\n",
    "#     \"\"\"\n",
    "#     messages = state[\"messages\"]\n",
    "#     last_message = messages[-1]\n",
    "    \n",
    "#     # Check if there are tool calls to execute\n",
    "#     if hasattr(last_message, \"tool_calls\") and last_message.tool_calls:\n",
    "#         # Create tool node and execute\n",
    "#         tool_node = ToolNode([search_web, write_summary])\n",
    "#         response = tool_node.invoke(state)\n",
    "#         return response\n",
    "    \n",
    "#     # If no tool calls, just return the state\n",
    "#     return state"
   ]
  },
  {
   "cell_type": "code",
   "execution_count": 10,
   "id": "e8c1889f",
   "metadata": {},
   "outputs": [],
   "source": [
    "## Define the StateGraph for the multi-agent system\n",
    "workflow_builder = StateGraph(MessagesState)"
   ]
  },
  {
   "cell_type": "code",
   "execution_count": 11,
   "id": "27aa233f",
   "metadata": {},
   "outputs": [
    {
     "data": {
      "text/plain": [
       "<langgraph.graph.state.StateGraph at 0x218afe10a70>"
      ]
     },
     "execution_count": 11,
     "metadata": {},
     "output_type": "execute_result"
    }
   ],
   "source": [
    "## ADD the nodes to the workflow\n",
    "workflow_builder.add_node(\"Researcher\", researcher_agent)\n",
    "workflow_builder.add_node(\"Writer\", writer_agent)"
   ]
  },
  {
   "cell_type": "code",
   "execution_count": 12,
   "id": "25966a66",
   "metadata": {},
   "outputs": [
    {
     "data": {
      "text/plain": [
       "<langgraph.graph.state.StateGraph at 0x218afe10a70>"
      ]
     },
     "execution_count": 12,
     "metadata": {},
     "output_type": "execute_result"
    }
   ],
   "source": [
    "## ADD ALL Edeges and Define The Flow\n",
    "workflow_builder.set_entry_point(\"Researcher\")\n",
    "workflow_builder.add_edge(\"Researcher\", \"Writer\")\n",
    "workflow_builder.add_edge(\"Writer\", END)"
   ]
  },
  {
   "cell_type": "code",
   "execution_count": 13,
   "id": "ea92f3a3",
   "metadata": {},
   "outputs": [],
   "source": [
    "## Compile the workflow\n",
    "workflow = workflow_builder.compile()"
   ]
  },
  {
   "cell_type": "code",
   "execution_count": 14,
   "id": "bc67d077",
   "metadata": {},
   "outputs": [
    {
     "data": {
      "image/png": "[encoded data removed]",
      "text/plain": [
       "<langgraph.graph.state.CompiledStateGraph object at 0x00000218B155C920>"
      ]
     },
     "execution_count": 14,
     "metadata": {},
     "output_type": "execute_result"
    }
   ],
   "source": [
    "workflow"
   ]
  },
  {
   "cell_type": "code",
   "execution_count": 15,
   "id": "c408de5c",
   "metadata": {},
   "outputs": [
    {
     "data": {
      "text/plain": [
       "{'messages': [HumanMessage(content='Reasearch about the usecase of agentic ai in business', additional_kwargs={}, response_metadata={}, id='0d27da84-bf1f-4626-b84f-1b1ca68adfd8'),\n",
       "  AIMessage(content='', additional_kwargs={'tool_calls': [{'id': 'pcb898fhf', 'function': {'arguments': '{\"query\":\"agentic AI in business use cases\"}', 'name': 'search_web'}, 'type': 'function'}]}, response_metadata={'token_usage': {'completion_tokens': 20, 'prompt_tokens': 245, 'total_tokens': 265, 'completion_time': 0.070515392, 'prompt_time': 0.034546532, 'queue_time': 0.08667401999999999, 'total_time': 0.105061924}, 'model_name': 'llama-3.3-70b-versatile', 'system_fingerprint': 'fp_3f3b593e33', 'service_tier': 'on_demand', 'finish_reason': 'tool_calls', 'logprobs': None}, id='run--27242f92-4998-408d-993a-15aa764c8252-0', tool_calls=[{'name': 'search_web', 'args': {'query': 'agentic AI in business use cases'}, 'id': 'pcb898fhf', 'type': 'tool_call'}], usage_metadata={'input_tokens': 245, 'output_tokens': 20, 'total_tokens': 265}),\n",
       "  AIMessage(content=\" \\n\\n**Summary of Findings: Agentic AI in Business**\\n\\nAgentic AI refers to artificial intelligence systems that can perform tasks autonomously, making decisions and taking actions without human intervention. In the business world, agentic AI has numerous use cases, transforming the way companies operate and interact with customers. Here are some key findings:\\n\\n**Use Cases:**\\n\\n1. **Customer Service**: Agentic AI-powered chatbots and virtual assistants provide 24/7 customer support, answering queries, and resolving issues autonomously.\\n2. **Predictive Maintenance**: Agentic AI analyzes equipment sensor data to predict maintenance needs, reducing downtime and increasing overall efficiency.\\n3. **Supply Chain Optimization**: Agentic AI optimizes supply chain operations, such as demand forecasting, inventory management, and logistics routing, to minimize costs and maximize profits.\\n4. **Marketing and Sales**: Agentic AI helps personalize customer experiences, automates lead generation, and optimizes marketing campaigns for better ROI.\\n5. **Financial Analysis**: Agentic AI analyzes financial data, identifies trends, and provides predictive insights to inform business decisions.\\n6. **Cybersecurity**: Agentic AI detects and responds to cyber threats in real-time, protecting businesses from data breaches and other security risks.\\n7. **HR Management**: Agentic AI streamlines HR processes, such as recruitment, employee onboarding, and benefits administration, freeing up staff for more strategic tasks.\\n\\n**Benefits:**\\n\\n1. **Increased Efficiency**: Agentic AI automates repetitive tasks, freeing up human resources for more strategic and creative work.\\n2. **Improved Accuracy**: Agentic AI reduces errors and improves decision-making by analyzing large datasets and identifying patterns.\\n3. **Enhanced Customer Experience**: Agentic AI provides personalized and timely support, improving customer satisfaction and loyalty.\\n4. **Cost Savings**: Agentic AI reduces labor costs, minimizes waste, and optimizes resource allocation.\\n5. **Competitive Advantage**: Businesses that adopt agentic AI can gain a competitive edge by innovating and disrupting traditional industries.\\n\\n**Challenges and Limitations:**\\n\\n1. **Data Quality**: Agentic AI requires high-quality, diverse, and relevant data to make accurate decisions.\\n2. **Explainability**: Agentic AI's decision-making processes can be complex and difficult to interpret, making it challenging to understand the reasoning behind its actions.\\n3. **Regulatory Compliance**: Businesses must ensure that agentic AI systems comply with relevant laws and regulations, such as data protection and anti-discrimination laws.\\n4. **Security Risks**: Agentic AI systems can be vulnerable to cyber threats and data breaches, compromising sensitive business information.\\n5. **Human-AI Collaboration**: Businesses must develop strategies for effective human-AI collaboration, ensuring that both humans and AI systems work together seamlessly.\\n\\nIn conclusion, agentic AI has the potential to transform businesses by automating tasks, improving decision-making, and enhancing customer experiences. However, it is crucial to address the challenges and limitations associated with agentic AI to ensure its successful adoption and integration into business operations.\", additional_kwargs={}, response_metadata={'token_usage': {'completion_tokens': 612, 'prompt_tokens': 87, 'total_tokens': 699, 'completion_time': 1.403494403, 'prompt_time': 0.018689442, 'queue_time': 0.08510709699999999, 'total_time': 1.422183845}, 'model_name': 'llama-3.3-70b-versatile', 'system_fingerprint': 'fp_3f3b593e33', 'service_tier': 'on_demand', 'finish_reason': 'stop', 'logprobs': None}, id='run--a77a52eb-ad29-4bf8-b581-a33c4a38c001-0', usage_metadata={'input_tokens': 87, 'output_tokens': 612, 'total_tokens': 699})]}"
      ]
     },
     "execution_count": 15,
     "metadata": {},
     "output_type": "execute_result"
    }
   ],
   "source": [
    "response = workflow.invoke({\n",
    "    \"messages\": \"Reasearch about the usecase of agentic ai in business\"\n",
    "})\n",
    "\n",
    "response"
   ]
  },
  {
   "cell_type": "code",
   "execution_count": 18,
   "id": "c99939a1",
   "metadata": {},
   "outputs": [
    {
     "name": "stdout",
     "output_type": "stream",
     "text": [
      " \n",
      "\n",
      "**Summary of Findings: Agentic AI in Business**\n",
      "\n",
      "Agentic AI refers to artificial intelligence systems that can perform tasks autonomously, making decisions and taking actions without human intervention. In the business world, agentic AI has numerous use cases, transforming the way companies operate and interact with customers. Here are some key findings:\n",
      "\n",
      "**Use Cases:**\n",
      "\n",
      "1. **Customer Service**: Agentic AI-powered chatbots and virtual assistants provide 24/7 customer support, answering queries, and resolving issues autonomously.\n",
      "2. **Predictive Maintenance**: Agentic AI analyzes equipment sensor data to predict maintenance needs, reducing downtime and increasing overall efficiency.\n",
      "3. **Supply Chain Optimization**: Agentic AI optimizes supply chain operations, such as demand forecasting, inventory management, and logistics routing, to minimize costs and maximize profits.\n",
      "4. **Marketing and Sales**: Agentic AI helps personalize customer experiences, automates lead generation, and optimizes marketing campaigns for better ROI.\n",
      "5. **Financial Analysis**: Agentic AI analyzes financial data, identifies trends, and provides predictive insights to inform business decisions.\n",
      "6. **Cybersecurity**: Agentic AI detects and responds to cyber threats in real-time, protecting businesses from data breaches and other security risks.\n",
      "7. **HR Management**: Agentic AI streamlines HR processes, such as recruitment, employee onboarding, and benefits administration, freeing up staff for more strategic tasks.\n",
      "\n",
      "**Benefits:**\n",
      "\n",
      "1. **Increased Efficiency**: Agentic AI automates repetitive tasks, freeing up human resources for more strategic and creative work.\n",
      "2. **Improved Accuracy**: Agentic AI reduces errors and improves decision-making by analyzing large datasets and identifying patterns.\n",
      "3. **Enhanced Customer Experience**: Agentic AI provides personalized and timely support, improving customer satisfaction and loyalty.\n",
      "4. **Cost Savings**: Agentic AI reduces labor costs, minimizes waste, and optimizes resource allocation.\n",
      "5. **Competitive Advantage**: Businesses that adopt agentic AI can gain a competitive edge by innovating and disrupting traditional industries.\n",
      "\n",
      "**Challenges and Limitations:**\n",
      "\n",
      "1. **Data Quality**: Agentic AI requires high-quality, diverse, and relevant data to make accurate decisions.\n",
      "2. **Explainability**: Agentic AI's decision-making processes can be complex and difficult to interpret, making it challenging to understand the reasoning behind its actions.\n",
      "3. **Regulatory Compliance**: Businesses must ensure that agentic AI systems comply with relevant laws and regulations, such as data protection and anti-discrimination laws.\n",
      "4. **Security Risks**: Agentic AI systems can be vulnerable to cyber threats and data breaches, compromising sensitive business information.\n",
      "5. **Human-AI Collaboration**: Businesses must develop strategies for effective human-AI collaboration, ensuring that both humans and AI systems work together seamlessly.\n",
      "\n",
      "In conclusion, agentic AI has the potential to transform businesses by automating tasks, improving decision-making, and enhancing customer experiences. However, it is crucial to address the challenges and limitations associated with agentic AI to ensure its successful adoption and integration into business operations.\n"
     ]
    }
   ],
   "source": [
    "print(response[\"messages\"][-1].content)"
   ]
  },
  {
   "cell_type": "code",
   "execution_count": null,
   "id": "880b65d3",
   "metadata": {},
   "outputs": [],
   "source": []
  }
 ],
 "metadata": {
  "kernelspec": {
   "display_name": "End-To-End Agentic AI LangGraph Project",
   "language": "python",
   "name": "python3"
  },
  "language_info": {
   "codemirror_mode": {
    "name": "ipython",
    "version": 3
   },
   "file_extension": ".py",
   "mimetype": "text/x-python",
   "name": "python",
   "nbconvert_exporter": "python",
   "pygments_lexer": "ipython3",
   "version": "3.12.11"
  }
 },
 "nbformat": 4,
 "nbformat_minor": 5
}
