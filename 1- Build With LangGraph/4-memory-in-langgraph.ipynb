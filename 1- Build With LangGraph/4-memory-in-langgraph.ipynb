{
 "cells": [
  {
   "cell_type": "markdown",
   "id": "6c75eb9d",
   "metadata": {},
   "source": [
    "### Adding Memory In Agentic Graph..."
   ]
  },
  {
   "cell_type": "code",
   "execution_count": 1,
   "id": "1ec187e9",
   "metadata": {},
   "outputs": [],
   "source": [
    "from typing_extensions import TypedDict\n",
    "from typing import Annotated\n",
    "\n",
    "from langgraph.graph.message import add_messages      ## Reducer"
   ]
  },
  {
   "cell_type": "code",
   "execution_count": 2,
   "id": "53e0d323",
   "metadata": {},
   "outputs": [],
   "source": [
    "class State(TypedDict):\n",
    "    messages: Annotated[list, add_messages]"
   ]
  },
  {
   "cell_type": "code",
   "execution_count": 3,
   "id": "b93e57d4",
   "metadata": {},
   "outputs": [],
   "source": [
    "import os\n",
    "from dotenv import load_dotenv\n",
    "\n",
    "load_dotenv()\n",
    "\n",
    "os.environ[\"GROQ_API_KEY\"] = os.getenv(\"GROQ_API_KEY\")\n",
    "os.environ[\"TAVILY_API_KEY\"] = os.getenv(\"TAVILY_API_KEY\")"
   ]
  },
  {
   "cell_type": "code",
   "execution_count": 4,
   "id": "b233c0ba",
   "metadata": {},
   "outputs": [],
   "source": [
    "from langchain_tavily import TavilySearch\n",
    "\n",
    "tavily = TavilySearch(max_results=2)"
   ]
  },
  {
   "cell_type": "code",
   "execution_count": 5,
   "id": "cc4fefc3",
   "metadata": {},
   "outputs": [
    {
     "data": {
      "text/plain": [
       "{'query': 'What is the Importance of Reinforcement Learning?',\n",
       " 'follow_up_questions': None,\n",
       " 'answer': None,\n",
       " 'images': [],\n",
       " 'results': [{'url': 'https://birchwoodu.org/reinforcement-learning-advantages-and-disadvantages/',\n",
       "   'title': 'What are the Reinforcement Learning Advantages and Disadvantages',\n",
       "   'content': 'Welcome to the realm of reinforcement learning (RL). Reinforcement learning is a type of machine learning where an agent learns to make decisions by taking actions in an environment to maximize cumulative rewards. Instead, RL systems learn directly from their experiences, making them particularly valuable in fields where data is scarce or challenging to label. For example, in robotics, an RL agent can learn to grasp objects more effectively through trial and error, adapting its approach based on previous failures. For instance, a self-driving car must adapt to varying traffic patterns and weather conditions, which can be effectively managed through reinforcement learning techniques. Reinforcement learning can be sample inefficient, often requiring a vast amount of data to learn effectively.',\n",
       "   'score': 0.72489023,\n",
       "   'raw_content': None},\n",
       "  {'url': 'https://emeritus.org/blog/ai-and-ml-what-is-reinforcement-learning/',\n",
       "   'title': \"What is Reinforcement Learning's Significance in AI Development?\",\n",
       "   'content': 'What is reinforcement learning? Its ingenious learning techniques are changing the face of industries and bridging the human-AI gap.',\n",
       "   'score': 0.65412235,\n",
       "   'raw_content': None}],\n",
       " 'response_time': 0.87}"
      ]
     },
     "execution_count": 5,
     "metadata": {},
     "output_type": "execute_result"
    }
   ],
   "source": [
    "tavily.invoke(\"What is the Importance of Reinforcement Learning?\")"
   ]
  },
  {
   "cell_type": "code",
   "execution_count": 6,
   "id": "99c9d954",
   "metadata": {},
   "outputs": [],
   "source": [
    "# My Custom Tool -> It's Not any Thing Special, Just a Python Function\n",
    "\n",
    "def multiply(a:int, b:int) -> int:\n",
    "    \"\"\"Multiply a and b\n",
    "\n",
    "    Args:\n",
    "        a (int): first int\n",
    "        b (int): second int\n",
    "\n",
    "    Returns:\n",
    "        int: output int\n",
    "    \"\"\"\n",
    "    return a * b"
   ]
  },
  {
   "cell_type": "code",
   "execution_count": 7,
   "id": "49c1b27e",
   "metadata": {},
   "outputs": [],
   "source": [
    "tools = [tavily, multiply]"
   ]
  },
  {
   "cell_type": "code",
   "execution_count": 8,
   "id": "17b8a6db",
   "metadata": {},
   "outputs": [],
   "source": [
    "from langchain_groq import ChatGroq\n",
    "\n",
    "llm_with_tools = ChatGroq(model=\"llama-3.3-70b-versatile\").bind_tools(tools=tools)"
   ]
  },
  {
   "cell_type": "code",
   "execution_count": 9,
   "id": "47d6608f",
   "metadata": {},
   "outputs": [
    {
     "data": {
      "text/plain": [
       "RunnableBinding(bound=ChatGroq(client=<groq.resources.chat.completions.Completions object at 0x000001C7D116BF80>, async_client=<groq.resources.chat.completions.AsyncCompletions object at 0x000001C7D1C03020>, model_name='llama-3.3-70b-versatile', model_kwargs={}, groq_api_key=SecretStr('**********')), kwargs={'tools': [{'type': 'function', 'function': {'name': 'tavily_search', 'description': 'A search engine optimized for comprehensive, accurate, and trusted results. Useful for when you need to answer questions about current events. It not only retrieves URLs and snippets, but offers advanced search depths, domain management, time range filters, and image search, this tool delivers real-time, accurate, and citation-backed results.Input should be a search query.', 'parameters': {'properties': {'query': {'description': 'Search query to look up', 'type': 'string'}, 'include_domains': {'anyOf': [{'items': {'type': 'string'}, 'type': 'array'}, {'type': 'null'}], 'default': [], 'description': 'A list of domains to restrict search results to.\\n\\n        Use this parameter when:\\n        1. The user explicitly requests information from specific websites (e.g., \"Find climate data from nasa.gov\")\\n        2. The user mentions an organization or company without specifying the domain (e.g., \"Find information about iPhones from Apple\")\\n\\n        In both cases, you should determine the appropriate domains (e.g., [\"nasa.gov\"] or [\"apple.com\"]) and set this parameter.\\n\\n        Results will ONLY come from the specified domains - no other sources will be included.\\n        Default is None (no domain restriction).\\n        '}, 'exclude_domains': {'anyOf': [{'items': {'type': 'string'}, 'type': 'array'}, {'type': 'null'}], 'default': [], 'description': 'A list of domains to exclude from search results.\\n\\n        Use this parameter when:\\n        1. The user explicitly requests to avoid certain websites (e.g., \"Find information about climate change but not from twitter.com\")\\n        2. The user mentions not wanting results from specific organizations without naming the domain (e.g., \"Find phone reviews but nothing from Apple\")\\n\\n        In both cases, you should determine the appropriate domains to exclude (e.g., [\"twitter.com\"] or [\"apple.com\"]) and set this parameter.\\n\\n        Results will filter out all content from the specified domains.\\n        Default is None (no domain exclusion).\\n        '}, 'search_depth': {'anyOf': [{'enum': ['basic', 'advanced'], 'type': 'string'}, {'type': 'null'}], 'default': 'basic', 'description': 'Controls search thoroughness and result comprehensiveness.\\n    \\n        Use \"basic\" for simple queries requiring quick, straightforward answers.\\n        \\n        Use \"advanced\" (default) for complex queries, specialized topics, \\n        rare information, or when in-depth analysis is needed.\\n        '}, 'include_images': {'anyOf': [{'type': 'boolean'}, {'type': 'null'}], 'default': False, 'description': 'Determines if the search returns relevant images along with text results.\\n   \\n        Set to True when the user explicitly requests visuals or when images would \\n        significantly enhance understanding (e.g., \"Show me what black holes look like,\" \\n        \"Find pictures of Renaissance art\").\\n        \\n        Leave as False (default) for most informational queries where text is sufficient.\\n        '}, 'time_range': {'anyOf': [{'enum': ['day', 'week', 'month', 'year'], 'type': 'string'}, {'type': 'null'}], 'default': None, 'description': 'Limits results to content published within a specific timeframe.\\n        \\n        ONLY set this when the user explicitly mentions a time period \\n        (e.g., \"latest AI news,\" \"articles from last week\").\\n        \\n        For less popular or niche topics, use broader time ranges \\n        (\"month\" or \"year\") to ensure sufficient relevant results.\\n   \\n        Options: \"day\" (24h), \"week\" (7d), \"month\" (30d), \"year\" (365d).\\n        \\n        Default is None.\\n        '}, 'topic': {'anyOf': [{'enum': ['general', 'news', 'finance'], 'type': 'string'}, {'type': 'null'}], 'default': 'general', 'description': 'Specifies search category for optimized results.\\n   \\n        Use \"general\" (default) for most queries, INCLUDING those with terms like \\n        \"latest,\" \"newest,\" or \"recent\" when referring to general information.\\n\\n        Use \"finance\" for markets, investments, economic data, or financial news.\\n\\n        Use \"news\" ONLY for politics, sports, or major current events covered by \\n        mainstream media - NOT simply because a query asks for \"new\" information.\\n        '}, 'include_favicon': {'anyOf': [{'type': 'boolean'}, {'type': 'null'}], 'default': False, 'description': \"Determines whether to include favicon URLs for each search result.\\n        \\n        When enabled, each search result will include the website's favicon URL,\\n        which can be useful for:\\n        - Building rich UI interfaces with visual website indicators\\n        - Providing visual cues about the source's credibility or brand\\n        - Creating bookmark-like displays with recognizable site icons\\n        \\n        Set to True when creating user interfaces that benefit from visual branding\\n        or when favicon information enhances the user experience.\\n        \\n        Default is False to minimize response size and API usage.\\n        \"}, 'start_date': {'anyOf': [{'type': 'string'}, {'type': 'null'}], 'default': None, 'description': 'Filters search results to include only content published on or after this date.\\n        \\n        Use this parameter when you need to:\\n        - Find recent developments or updates on a topic\\n        - Exclude outdated information from search results\\n        - Focus on content within a specific timeframe\\n        - Combine with end_date to create a custom date range\\n        \\n        Format must be YYYY-MM-DD (e.g., \"2024-01-15\" for January 15, 2024).\\n        \\n        Examples:\\n        - \"2024-01-01\" - Results from January 1, 2024 onwards\\n        - \"2023-12-25\" - Results from December 25, 2023 onwards\\n        \\n        When combined with end_date, creates a precise date range filter.\\n        \\n        Default is None (no start date restriction).\\n        '}, 'end_date': {'anyOf': [{'type': 'string'}, {'type': 'null'}], 'default': None, 'description': 'Filters search results to include only content published on or before this date.\\n        \\n        Use this parameter when you need to:\\n        - Exclude content published after a certain date\\n        - Study historical information or past events\\n        - Research how topics were covered during specific time periods\\n        - Combine with start_date to create a custom date range\\n        \\n        Format must be YYYY-MM-DD (e.g., \"2024-03-31\" for March 31, 2024).\\n        \\n        Examples:\\n        - \"2024-03-31\" - Results up to and including March 31, 2024\\n        - \"2023-12-31\" - Results up to and including December 31, 2023\\n        \\n        When combined with start_date, creates a precise date range filter.\\n        For example: start_date=\"2024-01-01\", end_date=\"2024-03-31\" \\n        returns results from Q1 2024 only.\\n        \\n        Default is None (no end date restriction).\\n        '}}, 'required': ['query'], 'type': 'object'}}}, {'type': 'function', 'function': {'name': 'multiply', 'description': 'Multiply a and b', 'parameters': {'properties': {'a': {'description': 'first int', 'type': 'integer'}, 'b': {'description': 'second int', 'type': 'integer'}}, 'required': ['a', 'b'], 'type': 'object'}}}]}, config={}, config_factories=[])"
      ]
     },
     "execution_count": 9,
     "metadata": {},
     "output_type": "execute_result"
    }
   ],
   "source": [
    "llm_with_tools"
   ]
  },
  {
   "cell_type": "code",
   "execution_count": 10,
   "id": "0bd2f4ea",
   "metadata": {},
   "outputs": [],
   "source": [
    "from langgraph.graph import StateGraph, START, END\n",
    "from langgraph.prebuilt import ToolNode, tools_condition\n",
    "from langgraph.checkpoint.memory import MemorySaver"
   ]
  },
  {
   "cell_type": "code",
   "execution_count": 11,
   "id": "4ce2fbdb",
   "metadata": {},
   "outputs": [],
   "source": [
    "memory = MemorySaver()"
   ]
  },
  {
   "cell_type": "code",
   "execution_count": 12,
   "id": "f36c5fb9",
   "metadata": {},
   "outputs": [],
   "source": [
    "## Node Defination\n",
    "def tool_calling_llm(state: State):\n",
    "    return {\n",
    "        \"messages\": [llm_with_tools.invoke(state[\"messages\"])]\n",
    "    }"
   ]
  },
  {
   "cell_type": "code",
   "execution_count": 13,
   "id": "562c46d0",
   "metadata": {},
   "outputs": [],
   "source": [
    "## Initialize The State Graph\n",
    "graph_builder = StateGraph(State)"
   ]
  },
  {
   "cell_type": "code",
   "execution_count": 14,
   "id": "740d33fa",
   "metadata": {},
   "outputs": [
    {
     "data": {
      "text/plain": [
       "<langgraph.graph.state.StateGraph at 0x1c7d12559a0>"
      ]
     },
     "execution_count": 14,
     "metadata": {},
     "output_type": "execute_result"
    }
   ],
   "source": [
    "## Add The Required Nodes\n",
    "graph_builder.add_node(\"tool_calling_llm\", tool_calling_llm)\n",
    "graph_builder.add_node(\"tools\", ToolNode(tools=tools))"
   ]
  },
  {
   "cell_type": "code",
   "execution_count": 15,
   "id": "b4c98bb6",
   "metadata": {},
   "outputs": [
    {
     "data": {
      "text/plain": [
       "<langgraph.graph.state.StateGraph at 0x1c7d12559a0>"
      ]
     },
     "execution_count": 15,
     "metadata": {},
     "output_type": "execute_result"
    }
   ],
   "source": [
    "## Add The Needed Edges\n",
    "graph_builder.add_edge(START, \"tool_calling_llm\")\n",
    "graph_builder.add_conditional_edges(\n",
    "    \"tool_calling_llm\",\n",
    "    # If the latest message (result) from assistant is a tool call -> tools_condition routes to tools\n",
    "    # If the latest message (result) from assistant is a not a tool call -> tools_condition routes to END\n",
    "    tools_condition\n",
    ")\n",
    "graph_builder.add_edge(\"tools\", \"tool_calling_llm\")"
   ]
  },
  {
   "cell_type": "code",
   "execution_count": 16,
   "id": "44210153",
   "metadata": {},
   "outputs": [],
   "source": [
    "## Let's Compile The Graph\n",
    "graph = graph_builder.compile(checkpointer=memory)"
   ]
  },
  {
   "cell_type": "code",
   "execution_count": 17,
   "id": "ab2e56ae",
   "metadata": {},
   "outputs": [
    {
     "data": {
      "image/png": "[encoded data removed]",
      "text/plain": [
       "<IPython.core.display.Image object>"
      ]
     },
     "metadata": {},
     "output_type": "display_data"
    }
   ],
   "source": [
    "## Display The Graph\n",
    "from IPython.display import display, Image\n",
    "\n",
    "display(Image(graph.get_graph().draw_mermaid_png()))"
   ]
  },
  {
   "cell_type": "code",
   "execution_count": 19,
   "id": "bf5128b3",
   "metadata": {},
   "outputs": [],
   "source": [
    "config = {\n",
    "    \"configurable\": {\"thread_id\": \"1\"}\n",
    "}"
   ]
  },
  {
   "cell_type": "code",
   "execution_count": 20,
   "id": "32b74beb",
   "metadata": {},
   "outputs": [
    {
     "data": {
      "text/plain": [
       "{'messages': [HumanMessage(content='What is the latest news about Reinforcement Learning?', additional_kwargs={}, response_metadata={}, id='f03df6d3-d6a9-4a75-a907-210080ffd810'),\n",
       "  AIMessage(content='', additional_kwargs={'tool_calls': [{'id': '4e1zc4f8z', 'function': {'arguments': '{\"query\":\"latest news Reinforcement Learning\",\"time_range\":\"day\",\"topic\":\"general\"}', 'name': 'tavily_search'}, 'type': 'function'}]}, response_metadata={'token_usage': {'completion_tokens': 33, 'prompt_tokens': 1859, 'total_tokens': 1892, 'completion_time': 0.090622377, 'prompt_time': 0.139998411, 'queue_time': 0.08623149300000002, 'total_time': 0.230620788}, 'model_name': 'llama-3.3-70b-versatile', 'system_fingerprint': 'fp_3f3b593e33', 'service_tier': 'on_demand', 'finish_reason': 'tool_calls', 'logprobs': None}, id='run--f78a444d-08fe-4c73-9a80-186bf38b455a-0', tool_calls=[{'name': 'tavily_search', 'args': {'query': 'latest news Reinforcement Learning', 'time_range': 'day', 'topic': 'general'}, 'id': '4e1zc4f8z', 'type': 'tool_call'}], usage_metadata={'input_tokens': 1859, 'output_tokens': 33, 'total_tokens': 1892}),\n",
       "  ToolMessage(content='{\"query\": \"latest news Reinforcement Learning\", \"follow_up_questions\": null, \"answer\": null, \"images\": [], \"results\": [{\"url\": \"https://www.openpr.com/news/4127549/future-of-the-reinforcement-learning-market-trends\", \"title\": \"Future of the Reinforcement Learning Market: Trends, - openPR.com\", \"content\": \"Moving from $10.49 billion in 2024, the market is slated to reach $13.52 billion in 2025, witnessing a compound annual growth rate (CAGR) of 28.9%.\", \"score\": 0.55362654, \"raw_content\": null}, {\"url\": \"https://news.ycombinator.com/item?id=44744331\", \"title\": \"Reflective prompt evolution can outperform reinforcement learning\", \"content\": \"GEPA: Reflective prompt evolution can outperform reinforcement learning. Hacker News. These models / nets / whatever are much \\\\\"smarter\\\\\" (loaded term) than we\", \"score\": 0.3066936, \"raw_content\": null}], \"response_time\": 1.28}', name='tavily_search', id='063d8b89-a9ec-4b42-b639-9fb8a2e6472f', tool_call_id='4e1zc4f8z'),\n",
       "  AIMessage(content='Based on the latest news, the Reinforcement Learning market is expected to reach $13.52 billion in 2025, with a compound annual growth rate (CAGR) of 28.9%. Additionally, there have been recent developments in reflective prompt evolution that have been shown to outperform reinforcement learning in certain cases.', additional_kwargs={}, response_metadata={'token_usage': {'completion_tokens': 66, 'prompt_tokens': 2139, 'total_tokens': 2205, 'completion_time': 0.176874035, 'prompt_time': 0.161651567, 'queue_time': 0.08615366700000002, 'total_time': 0.338525602}, 'model_name': 'llama-3.3-70b-versatile', 'system_fingerprint': 'fp_3f3b593e33', 'service_tier': 'on_demand', 'finish_reason': 'stop', 'logprobs': None}, id='run--bb064586-6585-4818-a515-73e6cd5599b7-0', usage_metadata={'input_tokens': 2139, 'output_tokens': 66, 'total_tokens': 2205})]}"
      ]
     },
     "execution_count": 20,
     "metadata": {},
     "output_type": "execute_result"
    }
   ],
   "source": [
    "graph.invoke({\n",
    "    \"messages\": \"What is the latest news about Reinforcement Learning?\"\n",
    "}, config=config)"
   ]
  },
  {
   "cell_type": "code",
   "execution_count": 22,
   "id": "948b863e",
   "metadata": {},
   "outputs": [
    {
     "data": {
      "text/plain": [
       "'The most powerful research news in Reinforcement Learning includes the development of Qwen2-Math, a new era for AI maths whizzes, and the deployment of ERNIE Bot generative AI to the public. Additionally, there have been breakthroughs in analog AI chips for efficient deep learning, next-gen GPU acceleration for AI, and new AI training techniques to overcome current challenges. Furthermore, there have been advancements in GenAI through Reinforcement Learning from Human Feedback (RLHF) and the development of reasoning LLMs. The Turing Award was also awarded to two research scientists for their work on reinforcement learning.'"
      ]
     },
     "execution_count": 22,
     "metadata": {},
     "output_type": "execute_result"
    }
   ],
   "source": [
    "response = graph.invoke({\n",
    "    \"messages\": \"What is the most powerful research news in Reinforcement Learning?\"\n",
    "}, config=config)\n",
    "\n",
    "response[\"messages\"][-1].content"
   ]
  },
  {
   "cell_type": "code",
   "execution_count": 23,
   "id": "0e75f026",
   "metadata": {},
   "outputs": [
    {
     "name": "stdout",
     "output_type": "stream",
     "text": [
      "================================\u001b[1m Human Message \u001b[0m=================================\n",
      "\n",
      "What is the latest news about Reinforcement Learning?\n",
      "==================================\u001b[1m Ai Message \u001b[0m==================================\n",
      "Tool Calls:\n",
      "  tavily_search (4e1zc4f8z)\n",
      " Call ID: 4e1zc4f8z\n",
      "  Args:\n",
      "    query: latest news Reinforcement Learning\n",
      "    time_range: day\n",
      "    topic: general\n",
      "=================================\u001b[1m Tool Message \u001b[0m=================================\n",
      "Name: tavily_search\n",
      "\n",
      "{\"query\": \"latest news Reinforcement Learning\", \"follow_up_questions\": null, \"answer\": null, \"images\": [], \"results\": [{\"url\": \"https://www.openpr.com/news/4127549/future-of-the-reinforcement-learning-market-trends\", \"title\": \"Future of the Reinforcement Learning Market: Trends, - openPR.com\", \"content\": \"Moving from $10.49 billion in 2024, the market is slated to reach $13.52 billion in 2025, witnessing a compound annual growth rate (CAGR) of 28.9%.\", \"score\": 0.55362654, \"raw_content\": null}, {\"url\": \"https://news.ycombinator.com/item?id=44744331\", \"title\": \"Reflective prompt evolution can outperform reinforcement learning\", \"content\": \"GEPA: Reflective prompt evolution can outperform reinforcement learning. Hacker News. These models / nets / whatever are much \\\"smarter\\\" (loaded term) than we\", \"score\": 0.3066936, \"raw_content\": null}], \"response_time\": 1.28}\n",
      "==================================\u001b[1m Ai Message \u001b[0m==================================\n",
      "\n",
      "Based on the latest news, the Reinforcement Learning market is expected to reach $13.52 billion in 2025, with a compound annual growth rate (CAGR) of 28.9%. Additionally, there have been recent developments in reflective prompt evolution that have been shown to outperform reinforcement learning in certain cases.\n",
      "================================\u001b[1m Human Message \u001b[0m=================================\n",
      "\n",
      "What is the most powerful research news in Reinforcement Learning?\n",
      "==================================\u001b[1m Ai Message \u001b[0m==================================\n",
      "Tool Calls:\n",
      "  tavily_search (p42n504vj)\n",
      " Call ID: p42n504vj\n",
      "  Args:\n",
      "    query: most powerful research news Reinforcement Learning\n",
      "    search_depth: advanced\n",
      "    topic: general\n",
      "=================================\u001b[1m Tool Message \u001b[0m=================================\n",
      "Name: tavily_search\n",
      "\n",
      "{\"query\": \"most powerful research news Reinforcement Learning\", \"follow_up_questions\": null, \"answer\": null, \"images\": [], \"results\": [{\"url\": \"https://www.artificialintelligence-news.com/categories/ai-deep-reinforcement-learning/\", \"title\": \"Deep & Reinforcement Learning | AI News\", \"content\": \"Deep & Reinforcement Learning\\n\\nAugust 9, 2024\\n\\nQwen2-Math: A new era for AI maths whizzes\\n\\nDeep & Reinforcement Learning\\n\\nAugust 31, 2023\\n\\nBaidu deploys its ERNIE Bot generative AI to the public\\n\\nDeep & Reinforcement Learning\\n\\nAugust 11, 2023\\n\\nIBM Research unveils breakthrough analog AI chip for efficient deep learning\\n\\nDeep & Reinforcement Learning\\n\\nAugust 9, 2023\\n\\nAzure and NVIDIA deliver next-gen GPU acceleration for AI\\n\\nDeep & Reinforcement Learning\\n\\nJuly 24, 2023 [...] DeepSeek-R1 reasoning models rival OpenAI in performance\\n\\nDeep & Reinforcement Learning\\n\\nNovember 28, 2024\\n\\nNew AI training techniques aim to overcome current challenges\\n\\nDeep & Reinforcement Learning\\n\\nSeptember 30, 2024\\n\\nHow cold hard data science harnesses AI with Wolfram Research\\n\\nDeep & Reinforcement Learning\\n\\nSeptember 26, 2024\\n\\nEnhancing healthcare documentation with IDP\\n\\nDeep & Reinforcement Learning\\n\\nAugust 16, 2024\\n\\nPrimate Labs launches Geekbench AI benchmarking tool [...] AI News is part of the TechForge Publications series\\n\\nTechForge\\n\\nCategory\\n\\nDeep & Reinforcement Learning\\n\\nAI Deep and Reinforcement Learning News. Explore the latest news and insights on deep and reinforcement learning here at AI News.\\n\\nDeep & Reinforcement Learning\\n\\nApril 24, 2025\\n\\nRAGEN: AI framework tackles LLM agent instability\\n\\nDeep & Reinforcement Learning\\n\\nMarch 6, 2025\\n\\nAlibaba Qwen QwQ-32B: Scaled reinforcement learning showcase\\n\\nDeep & Reinforcement Learning\\n\\nJanuary 20, 2025\", \"score\": 0.52612424, \"raw_content\": null}, {\"url\": \"https://statistician-in-stilettos.medium.com/a-survey-of-advancements-in-gen-ai-with-reinforcement-learning-how-rlhf-and-reasoning-llms-are-cf9ad5935861\", \"title\": \"Why Reinforcement Learning Might be the Most Overlooked AI ...\", \"content\": \"🔹 2022–present: Application in Generative AI through Reinforcement Learning from Human Feedback (RLHF), becoming instrumental in training large language models.\\n\\n🔹 2024: Turing Award is awarded to two research scientists (Richard Sutton and Andrew Barto) for their work that laid the foundation of reinforcement learning. link [...] 🔹 1998: The publication of “Reinforcement Learning: An Introduction” by Richard Sutton and Andrew Barto is considered a defining moment, as it formalized and unified the field.\\n\\n🔹 2013: DeepMind publishes their work on Deep Q-Networks (DQN), combining deep neural networks with Q-learning to master Atari games. (Mnih, V. et al. (2013). “Playing Atari with Deep Reinforcement Learning.” arXiv:1312.5602) [...] Now that we understand the basics of Reinforcement Learning, let’s talk about how it is relevant to GenAI today. Recent research at the intersection of reinforcement learning and LLMs has led to significant advancements making GenAI more adaptable, useful, and controllable. Below are some notable developments worth following:\", \"score\": 0.52451706, \"raw_content\": null}], \"response_time\": 1.79}\n",
      "==================================\u001b[1m Ai Message \u001b[0m==================================\n",
      "\n",
      "The most powerful research news in Reinforcement Learning includes the development of Qwen2-Math, a new era for AI maths whizzes, and the deployment of ERNIE Bot generative AI to the public. Additionally, there have been breakthroughs in analog AI chips for efficient deep learning, next-gen GPU acceleration for AI, and new AI training techniques to overcome current challenges. Furthermore, there have been advancements in GenAI through Reinforcement Learning from Human Feedback (RLHF) and the development of reasoning LLMs. The Turing Award was also awarded to two research scientists for their work on reinforcement learning.\n"
     ]
    }
   ],
   "source": [
    "for message in response[\"messages\"]:\n",
    "    message.pretty_print()"
   ]
  },
  {
   "cell_type": "code",
   "execution_count": 24,
   "id": "d670a1be",
   "metadata": {},
   "outputs": [
    {
     "name": "stdout",
     "output_type": "stream",
     "text": [
      "================================\u001b[1m Human Message \u001b[0m=================================\n",
      "\n",
      "What is the latest news about Reinforcement Learning?\n",
      "==================================\u001b[1m Ai Message \u001b[0m==================================\n",
      "Tool Calls:\n",
      "  tavily_search (4e1zc4f8z)\n",
      " Call ID: 4e1zc4f8z\n",
      "  Args:\n",
      "    query: latest news Reinforcement Learning\n",
      "    time_range: day\n",
      "    topic: general\n",
      "=================================\u001b[1m Tool Message \u001b[0m=================================\n",
      "Name: tavily_search\n",
      "\n",
      "{\"query\": \"latest news Reinforcement Learning\", \"follow_up_questions\": null, \"answer\": null, \"images\": [], \"results\": [{\"url\": \"https://www.openpr.com/news/4127549/future-of-the-reinforcement-learning-market-trends\", \"title\": \"Future of the Reinforcement Learning Market: Trends, - openPR.com\", \"content\": \"Moving from $10.49 billion in 2024, the market is slated to reach $13.52 billion in 2025, witnessing a compound annual growth rate (CAGR) of 28.9%.\", \"score\": 0.55362654, \"raw_content\": null}, {\"url\": \"https://news.ycombinator.com/item?id=44744331\", \"title\": \"Reflective prompt evolution can outperform reinforcement learning\", \"content\": \"GEPA: Reflective prompt evolution can outperform reinforcement learning. Hacker News. These models / nets / whatever are much \\\"smarter\\\" (loaded term) than we\", \"score\": 0.3066936, \"raw_content\": null}], \"response_time\": 1.28}\n",
      "==================================\u001b[1m Ai Message \u001b[0m==================================\n",
      "\n",
      "Based on the latest news, the Reinforcement Learning market is expected to reach $13.52 billion in 2025, with a compound annual growth rate (CAGR) of 28.9%. Additionally, there have been recent developments in reflective prompt evolution that have been shown to outperform reinforcement learning in certain cases.\n",
      "================================\u001b[1m Human Message \u001b[0m=================================\n",
      "\n",
      "What is the most powerful research news in Reinforcement Learning?\n",
      "==================================\u001b[1m Ai Message \u001b[0m==================================\n",
      "Tool Calls:\n",
      "  tavily_search (p42n504vj)\n",
      " Call ID: p42n504vj\n",
      "  Args:\n",
      "    query: most powerful research news Reinforcement Learning\n",
      "    search_depth: advanced\n",
      "    topic: general\n",
      "=================================\u001b[1m Tool Message \u001b[0m=================================\n",
      "Name: tavily_search\n",
      "\n",
      "{\"query\": \"most powerful research news Reinforcement Learning\", \"follow_up_questions\": null, \"answer\": null, \"images\": [], \"results\": [{\"url\": \"https://www.artificialintelligence-news.com/categories/ai-deep-reinforcement-learning/\", \"title\": \"Deep & Reinforcement Learning | AI News\", \"content\": \"Deep & Reinforcement Learning\\n\\nAugust 9, 2024\\n\\nQwen2-Math: A new era for AI maths whizzes\\n\\nDeep & Reinforcement Learning\\n\\nAugust 31, 2023\\n\\nBaidu deploys its ERNIE Bot generative AI to the public\\n\\nDeep & Reinforcement Learning\\n\\nAugust 11, 2023\\n\\nIBM Research unveils breakthrough analog AI chip for efficient deep learning\\n\\nDeep & Reinforcement Learning\\n\\nAugust 9, 2023\\n\\nAzure and NVIDIA deliver next-gen GPU acceleration for AI\\n\\nDeep & Reinforcement Learning\\n\\nJuly 24, 2023 [...] DeepSeek-R1 reasoning models rival OpenAI in performance\\n\\nDeep & Reinforcement Learning\\n\\nNovember 28, 2024\\n\\nNew AI training techniques aim to overcome current challenges\\n\\nDeep & Reinforcement Learning\\n\\nSeptember 30, 2024\\n\\nHow cold hard data science harnesses AI with Wolfram Research\\n\\nDeep & Reinforcement Learning\\n\\nSeptember 26, 2024\\n\\nEnhancing healthcare documentation with IDP\\n\\nDeep & Reinforcement Learning\\n\\nAugust 16, 2024\\n\\nPrimate Labs launches Geekbench AI benchmarking tool [...] AI News is part of the TechForge Publications series\\n\\nTechForge\\n\\nCategory\\n\\nDeep & Reinforcement Learning\\n\\nAI Deep and Reinforcement Learning News. Explore the latest news and insights on deep and reinforcement learning here at AI News.\\n\\nDeep & Reinforcement Learning\\n\\nApril 24, 2025\\n\\nRAGEN: AI framework tackles LLM agent instability\\n\\nDeep & Reinforcement Learning\\n\\nMarch 6, 2025\\n\\nAlibaba Qwen QwQ-32B: Scaled reinforcement learning showcase\\n\\nDeep & Reinforcement Learning\\n\\nJanuary 20, 2025\", \"score\": 0.52612424, \"raw_content\": null}, {\"url\": \"https://statistician-in-stilettos.medium.com/a-survey-of-advancements-in-gen-ai-with-reinforcement-learning-how-rlhf-and-reasoning-llms-are-cf9ad5935861\", \"title\": \"Why Reinforcement Learning Might be the Most Overlooked AI ...\", \"content\": \"🔹 2022–present: Application in Generative AI through Reinforcement Learning from Human Feedback (RLHF), becoming instrumental in training large language models.\\n\\n🔹 2024: Turing Award is awarded to two research scientists (Richard Sutton and Andrew Barto) for their work that laid the foundation of reinforcement learning. link [...] 🔹 1998: The publication of “Reinforcement Learning: An Introduction” by Richard Sutton and Andrew Barto is considered a defining moment, as it formalized and unified the field.\\n\\n🔹 2013: DeepMind publishes their work on Deep Q-Networks (DQN), combining deep neural networks with Q-learning to master Atari games. (Mnih, V. et al. (2013). “Playing Atari with Deep Reinforcement Learning.” arXiv:1312.5602) [...] Now that we understand the basics of Reinforcement Learning, let’s talk about how it is relevant to GenAI today. Recent research at the intersection of reinforcement learning and LLMs has led to significant advancements making GenAI more adaptable, useful, and controllable. Below are some notable developments worth following:\", \"score\": 0.52451706, \"raw_content\": null}], \"response_time\": 1.79}\n",
      "==================================\u001b[1m Ai Message \u001b[0m==================================\n",
      "\n",
      "The most powerful research news in Reinforcement Learning includes the development of Qwen2-Math, a new era for AI maths whizzes, and the deployment of ERNIE Bot generative AI to the public. Additionally, there have been breakthroughs in analog AI chips for efficient deep learning, next-gen GPU acceleration for AI, and new AI training techniques to overcome current challenges. Furthermore, there have been advancements in GenAI through Reinforcement Learning from Human Feedback (RLHF) and the development of reasoning LLMs. The Turing Award was also awarded to two research scientists for their work on reinforcement learning.\n",
      "================================\u001b[1m Human Message \u001b[0m=================================\n",
      "\n",
      "Multiply 51 and 6\n",
      "==================================\u001b[1m Ai Message \u001b[0m==================================\n",
      "Tool Calls:\n",
      "  multiply (ec7401efh)\n",
      " Call ID: ec7401efh\n",
      "  Args:\n",
      "    a: 51\n",
      "    b: 6\n",
      "=================================\u001b[1m Tool Message \u001b[0m=================================\n",
      "Name: multiply\n",
      "\n",
      "306\n",
      "==================================\u001b[1m Ai Message \u001b[0m==================================\n",
      "\n",
      "The result of multiplying 51 and 6 is 306.\n"
     ]
    }
   ],
   "source": [
    "response = graph.invoke({\n",
    "    \"messages\": \"Multiply 51 and 6\"\n",
    "}, config=config)\n",
    "\n",
    "for message in response[\"messages\"]:\n",
    "    message.pretty_print()"
   ]
  },
  {
   "cell_type": "code",
   "execution_count": 25,
   "id": "6e607380",
   "metadata": {},
   "outputs": [
    {
     "name": "stdout",
     "output_type": "stream",
     "text": [
      "================================\u001b[1m Human Message \u001b[0m=================================\n",
      "\n",
      "What is the latest news about Reinforcement Learning?\n",
      "==================================\u001b[1m Ai Message \u001b[0m==================================\n",
      "Tool Calls:\n",
      "  tavily_search (4e1zc4f8z)\n",
      " Call ID: 4e1zc4f8z\n",
      "  Args:\n",
      "    query: latest news Reinforcement Learning\n",
      "    time_range: day\n",
      "    topic: general\n",
      "=================================\u001b[1m Tool Message \u001b[0m=================================\n",
      "Name: tavily_search\n",
      "\n",
      "{\"query\": \"latest news Reinforcement Learning\", \"follow_up_questions\": null, \"answer\": null, \"images\": [], \"results\": [{\"url\": \"https://www.openpr.com/news/4127549/future-of-the-reinforcement-learning-market-trends\", \"title\": \"Future of the Reinforcement Learning Market: Trends, - openPR.com\", \"content\": \"Moving from $10.49 billion in 2024, the market is slated to reach $13.52 billion in 2025, witnessing a compound annual growth rate (CAGR) of 28.9%.\", \"score\": 0.55362654, \"raw_content\": null}, {\"url\": \"https://news.ycombinator.com/item?id=44744331\", \"title\": \"Reflective prompt evolution can outperform reinforcement learning\", \"content\": \"GEPA: Reflective prompt evolution can outperform reinforcement learning. Hacker News. These models / nets / whatever are much \\\"smarter\\\" (loaded term) than we\", \"score\": 0.3066936, \"raw_content\": null}], \"response_time\": 1.28}\n",
      "==================================\u001b[1m Ai Message \u001b[0m==================================\n",
      "\n",
      "Based on the latest news, the Reinforcement Learning market is expected to reach $13.52 billion in 2025, with a compound annual growth rate (CAGR) of 28.9%. Additionally, there have been recent developments in reflective prompt evolution that have been shown to outperform reinforcement learning in certain cases.\n",
      "================================\u001b[1m Human Message \u001b[0m=================================\n",
      "\n",
      "What is the most powerful research news in Reinforcement Learning?\n",
      "==================================\u001b[1m Ai Message \u001b[0m==================================\n",
      "Tool Calls:\n",
      "  tavily_search (p42n504vj)\n",
      " Call ID: p42n504vj\n",
      "  Args:\n",
      "    query: most powerful research news Reinforcement Learning\n",
      "    search_depth: advanced\n",
      "    topic: general\n",
      "=================================\u001b[1m Tool Message \u001b[0m=================================\n",
      "Name: tavily_search\n",
      "\n",
      "{\"query\": \"most powerful research news Reinforcement Learning\", \"follow_up_questions\": null, \"answer\": null, \"images\": [], \"results\": [{\"url\": \"https://www.artificialintelligence-news.com/categories/ai-deep-reinforcement-learning/\", \"title\": \"Deep & Reinforcement Learning | AI News\", \"content\": \"Deep & Reinforcement Learning\\n\\nAugust 9, 2024\\n\\nQwen2-Math: A new era for AI maths whizzes\\n\\nDeep & Reinforcement Learning\\n\\nAugust 31, 2023\\n\\nBaidu deploys its ERNIE Bot generative AI to the public\\n\\nDeep & Reinforcement Learning\\n\\nAugust 11, 2023\\n\\nIBM Research unveils breakthrough analog AI chip for efficient deep learning\\n\\nDeep & Reinforcement Learning\\n\\nAugust 9, 2023\\n\\nAzure and NVIDIA deliver next-gen GPU acceleration for AI\\n\\nDeep & Reinforcement Learning\\n\\nJuly 24, 2023 [...] DeepSeek-R1 reasoning models rival OpenAI in performance\\n\\nDeep & Reinforcement Learning\\n\\nNovember 28, 2024\\n\\nNew AI training techniques aim to overcome current challenges\\n\\nDeep & Reinforcement Learning\\n\\nSeptember 30, 2024\\n\\nHow cold hard data science harnesses AI with Wolfram Research\\n\\nDeep & Reinforcement Learning\\n\\nSeptember 26, 2024\\n\\nEnhancing healthcare documentation with IDP\\n\\nDeep & Reinforcement Learning\\n\\nAugust 16, 2024\\n\\nPrimate Labs launches Geekbench AI benchmarking tool [...] AI News is part of the TechForge Publications series\\n\\nTechForge\\n\\nCategory\\n\\nDeep & Reinforcement Learning\\n\\nAI Deep and Reinforcement Learning News. Explore the latest news and insights on deep and reinforcement learning here at AI News.\\n\\nDeep & Reinforcement Learning\\n\\nApril 24, 2025\\n\\nRAGEN: AI framework tackles LLM agent instability\\n\\nDeep & Reinforcement Learning\\n\\nMarch 6, 2025\\n\\nAlibaba Qwen QwQ-32B: Scaled reinforcement learning showcase\\n\\nDeep & Reinforcement Learning\\n\\nJanuary 20, 2025\", \"score\": 0.52612424, \"raw_content\": null}, {\"url\": \"https://statistician-in-stilettos.medium.com/a-survey-of-advancements-in-gen-ai-with-reinforcement-learning-how-rlhf-and-reasoning-llms-are-cf9ad5935861\", \"title\": \"Why Reinforcement Learning Might be the Most Overlooked AI ...\", \"content\": \"🔹 2022–present: Application in Generative AI through Reinforcement Learning from Human Feedback (RLHF), becoming instrumental in training large language models.\\n\\n🔹 2024: Turing Award is awarded to two research scientists (Richard Sutton and Andrew Barto) for their work that laid the foundation of reinforcement learning. link [...] 🔹 1998: The publication of “Reinforcement Learning: An Introduction” by Richard Sutton and Andrew Barto is considered a defining moment, as it formalized and unified the field.\\n\\n🔹 2013: DeepMind publishes their work on Deep Q-Networks (DQN), combining deep neural networks with Q-learning to master Atari games. (Mnih, V. et al. (2013). “Playing Atari with Deep Reinforcement Learning.” arXiv:1312.5602) [...] Now that we understand the basics of Reinforcement Learning, let’s talk about how it is relevant to GenAI today. Recent research at the intersection of reinforcement learning and LLMs has led to significant advancements making GenAI more adaptable, useful, and controllable. Below are some notable developments worth following:\", \"score\": 0.52451706, \"raw_content\": null}], \"response_time\": 1.79}\n",
      "==================================\u001b[1m Ai Message \u001b[0m==================================\n",
      "\n",
      "The most powerful research news in Reinforcement Learning includes the development of Qwen2-Math, a new era for AI maths whizzes, and the deployment of ERNIE Bot generative AI to the public. Additionally, there have been breakthroughs in analog AI chips for efficient deep learning, next-gen GPU acceleration for AI, and new AI training techniques to overcome current challenges. Furthermore, there have been advancements in GenAI through Reinforcement Learning from Human Feedback (RLHF) and the development of reasoning LLMs. The Turing Award was also awarded to two research scientists for their work on reinforcement learning.\n",
      "================================\u001b[1m Human Message \u001b[0m=================================\n",
      "\n",
      "Multiply 51 and 6\n",
      "==================================\u001b[1m Ai Message \u001b[0m==================================\n",
      "Tool Calls:\n",
      "  multiply (ec7401efh)\n",
      " Call ID: ec7401efh\n",
      "  Args:\n",
      "    a: 51\n",
      "    b: 6\n",
      "=================================\u001b[1m Tool Message \u001b[0m=================================\n",
      "Name: multiply\n",
      "\n",
      "306\n",
      "==================================\u001b[1m Ai Message \u001b[0m==================================\n",
      "\n",
      "The result of multiplying 51 and 6 is 306.\n",
      "================================\u001b[1m Human Message \u001b[0m=================================\n",
      "\n",
      "What is the latest news about Reinforcement Learning and then Multiply 51 by 6??\n",
      "==================================\u001b[1m Ai Message \u001b[0m==================================\n",
      "Tool Calls:\n",
      "  tavily_search (jz6qwd041)\n",
      " Call ID: jz6qwd041\n",
      "  Args:\n",
      "    query: latest news Reinforcement Learning\n",
      "    time_range: day\n",
      "    topic: general\n",
      "=================================\u001b[1m Tool Message \u001b[0m=================================\n",
      "Name: tavily_search\n",
      "\n",
      "{\"query\": \"latest news Reinforcement Learning\", \"follow_up_questions\": null, \"answer\": null, \"images\": [], \"results\": [{\"url\": \"https://www.openpr.com/news/4127549/future-of-the-reinforcement-learning-market-trends\", \"title\": \"Future of the Reinforcement Learning Market: Trends, - openPR.com\", \"content\": \"Moving from $10.49 billion in 2024, the market is slated to reach $13.52 billion in 2025, witnessing a compound annual growth rate (CAGR) of 28.9%.\", \"score\": 0.55362654, \"raw_content\": null}, {\"url\": \"https://news.ycombinator.com/item?id=44744331\", \"title\": \"Reflective prompt evolution can outperform reinforcement learning\", \"content\": \"GEPA: Reflective prompt evolution can outperform reinforcement learning. Hacker News. These models / nets / whatever are much \\\"smarter\\\" (loaded term) than we\", \"score\": 0.3066936, \"raw_content\": null}], \"response_time\": 0.99}\n",
      "==================================\u001b[1m Ai Message \u001b[0m==================================\n",
      "Tool Calls:\n",
      "  multiply (k7m8daae4)\n",
      " Call ID: k7m8daae4\n",
      "  Args:\n",
      "    a: 51\n",
      "    b: 6\n",
      "=================================\u001b[1m Tool Message \u001b[0m=================================\n",
      "Name: multiply\n",
      "\n",
      "306\n",
      "==================================\u001b[1m Ai Message \u001b[0m==================================\n",
      "\n",
      "The latest news about Reinforcement Learning is that the market is expected to reach $13.52 billion in 2025, with a compound annual growth rate (CAGR) of 28.9%. Additionally, there have been recent developments in reflective prompt evolution that have been shown to outperform reinforcement learning in certain cases. The result of multiplying 51 and 6 is 306.\n"
     ]
    }
   ],
   "source": [
    "response = graph.invoke({\n",
    "    \"messages\": \"What is the latest news about Reinforcement Learning and then Multiply 51 by 6??\"\n",
    "}, config=config)\n",
    "\n",
    "for message in response[\"messages\"]:\n",
    "    message.pretty_print()"
   ]
  },
  {
   "cell_type": "code",
   "execution_count": 26,
   "id": "d783624e",
   "metadata": {},
   "outputs": [
    {
     "name": "stdout",
     "output_type": "stream",
     "text": [
      "================================\u001b[1m Human Message \u001b[0m=================================\n",
      "\n",
      "What is the latest news about Reinforcement Learning?\n",
      "==================================\u001b[1m Ai Message \u001b[0m==================================\n",
      "Tool Calls:\n",
      "  tavily_search (4e1zc4f8z)\n",
      " Call ID: 4e1zc4f8z\n",
      "  Args:\n",
      "    query: latest news Reinforcement Learning\n",
      "    time_range: day\n",
      "    topic: general\n",
      "=================================\u001b[1m Tool Message \u001b[0m=================================\n",
      "Name: tavily_search\n",
      "\n",
      "{\"query\": \"latest news Reinforcement Learning\", \"follow_up_questions\": null, \"answer\": null, \"images\": [], \"results\": [{\"url\": \"https://www.openpr.com/news/4127549/future-of-the-reinforcement-learning-market-trends\", \"title\": \"Future of the Reinforcement Learning Market: Trends, - openPR.com\", \"content\": \"Moving from $10.49 billion in 2024, the market is slated to reach $13.52 billion in 2025, witnessing a compound annual growth rate (CAGR) of 28.9%.\", \"score\": 0.55362654, \"raw_content\": null}, {\"url\": \"https://news.ycombinator.com/item?id=44744331\", \"title\": \"Reflective prompt evolution can outperform reinforcement learning\", \"content\": \"GEPA: Reflective prompt evolution can outperform reinforcement learning. Hacker News. These models / nets / whatever are much \\\"smarter\\\" (loaded term) than we\", \"score\": 0.3066936, \"raw_content\": null}], \"response_time\": 1.28}\n",
      "==================================\u001b[1m Ai Message \u001b[0m==================================\n",
      "\n",
      "Based on the latest news, the Reinforcement Learning market is expected to reach $13.52 billion in 2025, with a compound annual growth rate (CAGR) of 28.9%. Additionally, there have been recent developments in reflective prompt evolution that have been shown to outperform reinforcement learning in certain cases.\n",
      "================================\u001b[1m Human Message \u001b[0m=================================\n",
      "\n",
      "What is the most powerful research news in Reinforcement Learning?\n",
      "==================================\u001b[1m Ai Message \u001b[0m==================================\n",
      "Tool Calls:\n",
      "  tavily_search (p42n504vj)\n",
      " Call ID: p42n504vj\n",
      "  Args:\n",
      "    query: most powerful research news Reinforcement Learning\n",
      "    search_depth: advanced\n",
      "    topic: general\n",
      "=================================\u001b[1m Tool Message \u001b[0m=================================\n",
      "Name: tavily_search\n",
      "\n",
      "{\"query\": \"most powerful research news Reinforcement Learning\", \"follow_up_questions\": null, \"answer\": null, \"images\": [], \"results\": [{\"url\": \"https://www.artificialintelligence-news.com/categories/ai-deep-reinforcement-learning/\", \"title\": \"Deep & Reinforcement Learning | AI News\", \"content\": \"Deep & Reinforcement Learning\\n\\nAugust 9, 2024\\n\\nQwen2-Math: A new era for AI maths whizzes\\n\\nDeep & Reinforcement Learning\\n\\nAugust 31, 2023\\n\\nBaidu deploys its ERNIE Bot generative AI to the public\\n\\nDeep & Reinforcement Learning\\n\\nAugust 11, 2023\\n\\nIBM Research unveils breakthrough analog AI chip for efficient deep learning\\n\\nDeep & Reinforcement Learning\\n\\nAugust 9, 2023\\n\\nAzure and NVIDIA deliver next-gen GPU acceleration for AI\\n\\nDeep & Reinforcement Learning\\n\\nJuly 24, 2023 [...] DeepSeek-R1 reasoning models rival OpenAI in performance\\n\\nDeep & Reinforcement Learning\\n\\nNovember 28, 2024\\n\\nNew AI training techniques aim to overcome current challenges\\n\\nDeep & Reinforcement Learning\\n\\nSeptember 30, 2024\\n\\nHow cold hard data science harnesses AI with Wolfram Research\\n\\nDeep & Reinforcement Learning\\n\\nSeptember 26, 2024\\n\\nEnhancing healthcare documentation with IDP\\n\\nDeep & Reinforcement Learning\\n\\nAugust 16, 2024\\n\\nPrimate Labs launches Geekbench AI benchmarking tool [...] AI News is part of the TechForge Publications series\\n\\nTechForge\\n\\nCategory\\n\\nDeep & Reinforcement Learning\\n\\nAI Deep and Reinforcement Learning News. Explore the latest news and insights on deep and reinforcement learning here at AI News.\\n\\nDeep & Reinforcement Learning\\n\\nApril 24, 2025\\n\\nRAGEN: AI framework tackles LLM agent instability\\n\\nDeep & Reinforcement Learning\\n\\nMarch 6, 2025\\n\\nAlibaba Qwen QwQ-32B: Scaled reinforcement learning showcase\\n\\nDeep & Reinforcement Learning\\n\\nJanuary 20, 2025\", \"score\": 0.52612424, \"raw_content\": null}, {\"url\": \"https://statistician-in-stilettos.medium.com/a-survey-of-advancements-in-gen-ai-with-reinforcement-learning-how-rlhf-and-reasoning-llms-are-cf9ad5935861\", \"title\": \"Why Reinforcement Learning Might be the Most Overlooked AI ...\", \"content\": \"🔹 2022–present: Application in Generative AI through Reinforcement Learning from Human Feedback (RLHF), becoming instrumental in training large language models.\\n\\n🔹 2024: Turing Award is awarded to two research scientists (Richard Sutton and Andrew Barto) for their work that laid the foundation of reinforcement learning. link [...] 🔹 1998: The publication of “Reinforcement Learning: An Introduction” by Richard Sutton and Andrew Barto is considered a defining moment, as it formalized and unified the field.\\n\\n🔹 2013: DeepMind publishes their work on Deep Q-Networks (DQN), combining deep neural networks with Q-learning to master Atari games. (Mnih, V. et al. (2013). “Playing Atari with Deep Reinforcement Learning.” arXiv:1312.5602) [...] Now that we understand the basics of Reinforcement Learning, let’s talk about how it is relevant to GenAI today. Recent research at the intersection of reinforcement learning and LLMs has led to significant advancements making GenAI more adaptable, useful, and controllable. Below are some notable developments worth following:\", \"score\": 0.52451706, \"raw_content\": null}], \"response_time\": 1.79}\n",
      "==================================\u001b[1m Ai Message \u001b[0m==================================\n",
      "\n",
      "The most powerful research news in Reinforcement Learning includes the development of Qwen2-Math, a new era for AI maths whizzes, and the deployment of ERNIE Bot generative AI to the public. Additionally, there have been breakthroughs in analog AI chips for efficient deep learning, next-gen GPU acceleration for AI, and new AI training techniques to overcome current challenges. Furthermore, there have been advancements in GenAI through Reinforcement Learning from Human Feedback (RLHF) and the development of reasoning LLMs. The Turing Award was also awarded to two research scientists for their work on reinforcement learning.\n",
      "================================\u001b[1m Human Message \u001b[0m=================================\n",
      "\n",
      "Multiply 51 and 6\n",
      "==================================\u001b[1m Ai Message \u001b[0m==================================\n",
      "Tool Calls:\n",
      "  multiply (ec7401efh)\n",
      " Call ID: ec7401efh\n",
      "  Args:\n",
      "    a: 51\n",
      "    b: 6\n",
      "=================================\u001b[1m Tool Message \u001b[0m=================================\n",
      "Name: multiply\n",
      "\n",
      "306\n",
      "==================================\u001b[1m Ai Message \u001b[0m==================================\n",
      "\n",
      "The result of multiplying 51 and 6 is 306.\n",
      "================================\u001b[1m Human Message \u001b[0m=================================\n",
      "\n",
      "What is the latest news about Reinforcement Learning and then Multiply 51 by 6??\n",
      "==================================\u001b[1m Ai Message \u001b[0m==================================\n",
      "Tool Calls:\n",
      "  tavily_search (jz6qwd041)\n",
      " Call ID: jz6qwd041\n",
      "  Args:\n",
      "    query: latest news Reinforcement Learning\n",
      "    time_range: day\n",
      "    topic: general\n",
      "=================================\u001b[1m Tool Message \u001b[0m=================================\n",
      "Name: tavily_search\n",
      "\n",
      "{\"query\": \"latest news Reinforcement Learning\", \"follow_up_questions\": null, \"answer\": null, \"images\": [], \"results\": [{\"url\": \"https://www.openpr.com/news/4127549/future-of-the-reinforcement-learning-market-trends\", \"title\": \"Future of the Reinforcement Learning Market: Trends, - openPR.com\", \"content\": \"Moving from $10.49 billion in 2024, the market is slated to reach $13.52 billion in 2025, witnessing a compound annual growth rate (CAGR) of 28.9%.\", \"score\": 0.55362654, \"raw_content\": null}, {\"url\": \"https://news.ycombinator.com/item?id=44744331\", \"title\": \"Reflective prompt evolution can outperform reinforcement learning\", \"content\": \"GEPA: Reflective prompt evolution can outperform reinforcement learning. Hacker News. These models / nets / whatever are much \\\"smarter\\\" (loaded term) than we\", \"score\": 0.3066936, \"raw_content\": null}], \"response_time\": 0.99}\n",
      "==================================\u001b[1m Ai Message \u001b[0m==================================\n",
      "Tool Calls:\n",
      "  multiply (k7m8daae4)\n",
      " Call ID: k7m8daae4\n",
      "  Args:\n",
      "    a: 51\n",
      "    b: 6\n",
      "=================================\u001b[1m Tool Message \u001b[0m=================================\n",
      "Name: multiply\n",
      "\n",
      "306\n",
      "==================================\u001b[1m Ai Message \u001b[0m==================================\n",
      "\n",
      "The latest news about Reinforcement Learning is that the market is expected to reach $13.52 billion in 2025, with a compound annual growth rate (CAGR) of 28.9%. Additionally, there have been recent developments in reflective prompt evolution that have been shown to outperform reinforcement learning in certain cases. The result of multiplying 51 and 6 is 306.\n",
      "================================\u001b[1m Human Message \u001b[0m=================================\n",
      "\n",
      "Welcome, My Name is Mohamed?\n",
      "==================================\u001b[1m Ai Message \u001b[0m==================================\n",
      "\n",
      "Hello Mohamed, it's nice to meet you. Is there something I can help you with or would you like to chat?\n"
     ]
    }
   ],
   "source": [
    "response = graph.invoke({\n",
    "    \"messages\": \"Welcome, My Name is Mohamed?\"\n",
    "}, config=config)\n",
    "\n",
    "for message in response[\"messages\"]:\n",
    "    message.pretty_print()"
   ]
  },
  {
   "cell_type": "code",
   "execution_count": 27,
   "id": "729adc3a",
   "metadata": {},
   "outputs": [
    {
     "name": "stdout",
     "output_type": "stream",
     "text": [
      "================================\u001b[1m Human Message \u001b[0m=================================\n",
      "\n",
      "What is the latest news about Reinforcement Learning?\n",
      "==================================\u001b[1m Ai Message \u001b[0m==================================\n",
      "Tool Calls:\n",
      "  tavily_search (4e1zc4f8z)\n",
      " Call ID: 4e1zc4f8z\n",
      "  Args:\n",
      "    query: latest news Reinforcement Learning\n",
      "    time_range: day\n",
      "    topic: general\n",
      "=================================\u001b[1m Tool Message \u001b[0m=================================\n",
      "Name: tavily_search\n",
      "\n",
      "{\"query\": \"latest news Reinforcement Learning\", \"follow_up_questions\": null, \"answer\": null, \"images\": [], \"results\": [{\"url\": \"https://www.openpr.com/news/4127549/future-of-the-reinforcement-learning-market-trends\", \"title\": \"Future of the Reinforcement Learning Market: Trends, - openPR.com\", \"content\": \"Moving from $10.49 billion in 2024, the market is slated to reach $13.52 billion in 2025, witnessing a compound annual growth rate (CAGR) of 28.9%.\", \"score\": 0.55362654, \"raw_content\": null}, {\"url\": \"https://news.ycombinator.com/item?id=44744331\", \"title\": \"Reflective prompt evolution can outperform reinforcement learning\", \"content\": \"GEPA: Reflective prompt evolution can outperform reinforcement learning. Hacker News. These models / nets / whatever are much \\\"smarter\\\" (loaded term) than we\", \"score\": 0.3066936, \"raw_content\": null}], \"response_time\": 1.28}\n",
      "==================================\u001b[1m Ai Message \u001b[0m==================================\n",
      "\n",
      "Based on the latest news, the Reinforcement Learning market is expected to reach $13.52 billion in 2025, with a compound annual growth rate (CAGR) of 28.9%. Additionally, there have been recent developments in reflective prompt evolution that have been shown to outperform reinforcement learning in certain cases.\n",
      "================================\u001b[1m Human Message \u001b[0m=================================\n",
      "\n",
      "What is the most powerful research news in Reinforcement Learning?\n",
      "==================================\u001b[1m Ai Message \u001b[0m==================================\n",
      "Tool Calls:\n",
      "  tavily_search (p42n504vj)\n",
      " Call ID: p42n504vj\n",
      "  Args:\n",
      "    query: most powerful research news Reinforcement Learning\n",
      "    search_depth: advanced\n",
      "    topic: general\n",
      "=================================\u001b[1m Tool Message \u001b[0m=================================\n",
      "Name: tavily_search\n",
      "\n",
      "{\"query\": \"most powerful research news Reinforcement Learning\", \"follow_up_questions\": null, \"answer\": null, \"images\": [], \"results\": [{\"url\": \"https://www.artificialintelligence-news.com/categories/ai-deep-reinforcement-learning/\", \"title\": \"Deep & Reinforcement Learning | AI News\", \"content\": \"Deep & Reinforcement Learning\\n\\nAugust 9, 2024\\n\\nQwen2-Math: A new era for AI maths whizzes\\n\\nDeep & Reinforcement Learning\\n\\nAugust 31, 2023\\n\\nBaidu deploys its ERNIE Bot generative AI to the public\\n\\nDeep & Reinforcement Learning\\n\\nAugust 11, 2023\\n\\nIBM Research unveils breakthrough analog AI chip for efficient deep learning\\n\\nDeep & Reinforcement Learning\\n\\nAugust 9, 2023\\n\\nAzure and NVIDIA deliver next-gen GPU acceleration for AI\\n\\nDeep & Reinforcement Learning\\n\\nJuly 24, 2023 [...] DeepSeek-R1 reasoning models rival OpenAI in performance\\n\\nDeep & Reinforcement Learning\\n\\nNovember 28, 2024\\n\\nNew AI training techniques aim to overcome current challenges\\n\\nDeep & Reinforcement Learning\\n\\nSeptember 30, 2024\\n\\nHow cold hard data science harnesses AI with Wolfram Research\\n\\nDeep & Reinforcement Learning\\n\\nSeptember 26, 2024\\n\\nEnhancing healthcare documentation with IDP\\n\\nDeep & Reinforcement Learning\\n\\nAugust 16, 2024\\n\\nPrimate Labs launches Geekbench AI benchmarking tool [...] AI News is part of the TechForge Publications series\\n\\nTechForge\\n\\nCategory\\n\\nDeep & Reinforcement Learning\\n\\nAI Deep and Reinforcement Learning News. Explore the latest news and insights on deep and reinforcement learning here at AI News.\\n\\nDeep & Reinforcement Learning\\n\\nApril 24, 2025\\n\\nRAGEN: AI framework tackles LLM agent instability\\n\\nDeep & Reinforcement Learning\\n\\nMarch 6, 2025\\n\\nAlibaba Qwen QwQ-32B: Scaled reinforcement learning showcase\\n\\nDeep & Reinforcement Learning\\n\\nJanuary 20, 2025\", \"score\": 0.52612424, \"raw_content\": null}, {\"url\": \"https://statistician-in-stilettos.medium.com/a-survey-of-advancements-in-gen-ai-with-reinforcement-learning-how-rlhf-and-reasoning-llms-are-cf9ad5935861\", \"title\": \"Why Reinforcement Learning Might be the Most Overlooked AI ...\", \"content\": \"🔹 2022–present: Application in Generative AI through Reinforcement Learning from Human Feedback (RLHF), becoming instrumental in training large language models.\\n\\n🔹 2024: Turing Award is awarded to two research scientists (Richard Sutton and Andrew Barto) for their work that laid the foundation of reinforcement learning. link [...] 🔹 1998: The publication of “Reinforcement Learning: An Introduction” by Richard Sutton and Andrew Barto is considered a defining moment, as it formalized and unified the field.\\n\\n🔹 2013: DeepMind publishes their work on Deep Q-Networks (DQN), combining deep neural networks with Q-learning to master Atari games. (Mnih, V. et al. (2013). “Playing Atari with Deep Reinforcement Learning.” arXiv:1312.5602) [...] Now that we understand the basics of Reinforcement Learning, let’s talk about how it is relevant to GenAI today. Recent research at the intersection of reinforcement learning and LLMs has led to significant advancements making GenAI more adaptable, useful, and controllable. Below are some notable developments worth following:\", \"score\": 0.52451706, \"raw_content\": null}], \"response_time\": 1.79}\n",
      "==================================\u001b[1m Ai Message \u001b[0m==================================\n",
      "\n",
      "The most powerful research news in Reinforcement Learning includes the development of Qwen2-Math, a new era for AI maths whizzes, and the deployment of ERNIE Bot generative AI to the public. Additionally, there have been breakthroughs in analog AI chips for efficient deep learning, next-gen GPU acceleration for AI, and new AI training techniques to overcome current challenges. Furthermore, there have been advancements in GenAI through Reinforcement Learning from Human Feedback (RLHF) and the development of reasoning LLMs. The Turing Award was also awarded to two research scientists for their work on reinforcement learning.\n",
      "================================\u001b[1m Human Message \u001b[0m=================================\n",
      "\n",
      "Multiply 51 and 6\n",
      "==================================\u001b[1m Ai Message \u001b[0m==================================\n",
      "Tool Calls:\n",
      "  multiply (ec7401efh)\n",
      " Call ID: ec7401efh\n",
      "  Args:\n",
      "    a: 51\n",
      "    b: 6\n",
      "=================================\u001b[1m Tool Message \u001b[0m=================================\n",
      "Name: multiply\n",
      "\n",
      "306\n",
      "==================================\u001b[1m Ai Message \u001b[0m==================================\n",
      "\n",
      "The result of multiplying 51 and 6 is 306.\n",
      "================================\u001b[1m Human Message \u001b[0m=================================\n",
      "\n",
      "What is the latest news about Reinforcement Learning and then Multiply 51 by 6??\n",
      "==================================\u001b[1m Ai Message \u001b[0m==================================\n",
      "Tool Calls:\n",
      "  tavily_search (jz6qwd041)\n",
      " Call ID: jz6qwd041\n",
      "  Args:\n",
      "    query: latest news Reinforcement Learning\n",
      "    time_range: day\n",
      "    topic: general\n",
      "=================================\u001b[1m Tool Message \u001b[0m=================================\n",
      "Name: tavily_search\n",
      "\n",
      "{\"query\": \"latest news Reinforcement Learning\", \"follow_up_questions\": null, \"answer\": null, \"images\": [], \"results\": [{\"url\": \"https://www.openpr.com/news/4127549/future-of-the-reinforcement-learning-market-trends\", \"title\": \"Future of the Reinforcement Learning Market: Trends, - openPR.com\", \"content\": \"Moving from $10.49 billion in 2024, the market is slated to reach $13.52 billion in 2025, witnessing a compound annual growth rate (CAGR) of 28.9%.\", \"score\": 0.55362654, \"raw_content\": null}, {\"url\": \"https://news.ycombinator.com/item?id=44744331\", \"title\": \"Reflective prompt evolution can outperform reinforcement learning\", \"content\": \"GEPA: Reflective prompt evolution can outperform reinforcement learning. Hacker News. These models / nets / whatever are much \\\"smarter\\\" (loaded term) than we\", \"score\": 0.3066936, \"raw_content\": null}], \"response_time\": 0.99}\n",
      "==================================\u001b[1m Ai Message \u001b[0m==================================\n",
      "Tool Calls:\n",
      "  multiply (k7m8daae4)\n",
      " Call ID: k7m8daae4\n",
      "  Args:\n",
      "    a: 51\n",
      "    b: 6\n",
      "=================================\u001b[1m Tool Message \u001b[0m=================================\n",
      "Name: multiply\n",
      "\n",
      "306\n",
      "==================================\u001b[1m Ai Message \u001b[0m==================================\n",
      "\n",
      "The latest news about Reinforcement Learning is that the market is expected to reach $13.52 billion in 2025, with a compound annual growth rate (CAGR) of 28.9%. Additionally, there have been recent developments in reflective prompt evolution that have been shown to outperform reinforcement learning in certain cases. The result of multiplying 51 and 6 is 306.\n",
      "================================\u001b[1m Human Message \u001b[0m=================================\n",
      "\n",
      "Welcome, My Name is Mohamed?\n",
      "==================================\u001b[1m Ai Message \u001b[0m==================================\n",
      "\n",
      "Hello Mohamed, it's nice to meet you. Is there something I can help you with or would you like to chat?\n",
      "================================\u001b[1m Human Message \u001b[0m=================================\n",
      "\n",
      "What is my name?\n",
      "==================================\u001b[1m Ai Message \u001b[0m==================================\n",
      "\n",
      "Your name is Mohamed.\n"
     ]
    }
   ],
   "source": [
    "response = graph.invoke({\n",
    "    \"messages\": \"What is my name?\"\n",
    "}, config=config)\n",
    "\n",
    "for message in response[\"messages\"]:\n",
    "    message.pretty_print()"
   ]
  },
  {
   "cell_type": "markdown",
   "id": "91e070f6",
   "metadata": {},
   "source": [
    "You Observed That All Chat Were Saved ??"
   ]
  }
 ],
 "metadata": {
  "kernelspec": {
   "display_name": "End-To-End LangGraph and MCP Agentic AI Project",
   "language": "python",
   "name": "python3"
  },
  "language_info": {
   "codemirror_mode": {
    "name": "ipython",
    "version": 3
   },
   "file_extension": ".py",
   "mimetype": "text/x-python",
   "name": "python",
   "nbconvert_exporter": "python",
   "pygments_lexer": "ipython3",
   "version": "3.12.11"
  }
 },
 "nbformat": 4,
 "nbformat_minor": 5
}
