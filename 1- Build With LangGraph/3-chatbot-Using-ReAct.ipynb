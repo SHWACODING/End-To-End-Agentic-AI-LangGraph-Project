{
 "cells": [
  {
   "cell_type": "markdown",
   "id": "6c75eb9d",
   "metadata": {},
   "source": [
    "### ReAct Agent Architecture..."
   ]
  },
  {
   "cell_type": "code",
   "execution_count": 1,
   "id": "1ec187e9",
   "metadata": {},
   "outputs": [],
   "source": [
    "from typing_extensions import TypedDict\n",
    "from typing import Annotated\n",
    "\n",
    "from langgraph.graph.message import add_messages      ## Reducer"
   ]
  },
  {
   "cell_type": "code",
   "execution_count": 2,
   "id": "53e0d323",
   "metadata": {},
   "outputs": [],
   "source": [
    "class State(TypedDict):\n",
    "    messages: Annotated[list, add_messages]"
   ]
  },
  {
   "cell_type": "code",
   "execution_count": 3,
   "id": "b93e57d4",
   "metadata": {},
   "outputs": [],
   "source": [
    "import os\n",
    "from dotenv import load_dotenv\n",
    "\n",
    "load_dotenv()\n",
    "\n",
    "os.environ[\"GROQ_API_KEY\"] = os.getenv(\"GROQ_API_KEY\")\n",
    "os.environ[\"TAVILY_API_KEY\"] = os.getenv(\"TAVILY_API_KEY\")"
   ]
  },
  {
   "cell_type": "code",
   "execution_count": 4,
   "id": "b233c0ba",
   "metadata": {},
   "outputs": [],
   "source": [
    "from langchain_tavily import TavilySearch\n",
    "\n",
    "tavily = TavilySearch(max_results=2)"
   ]
  },
  {
   "cell_type": "code",
   "execution_count": 5,
   "id": "cc4fefc3",
   "metadata": {},
   "outputs": [
    {
     "data": {
      "text/plain": [
       "{'query': 'What is Agentic AI?',\n",
       " 'follow_up_questions': None,\n",
       " 'answer': None,\n",
       " 'images': [],\n",
       " 'results': [{'url': 'https://en.wikipedia.org/wiki/Agentic_AI',\n",
       "   'title': 'Agentic AI - Wikipedia',\n",
       "   'content': 'Agentic AI - Wikipedia Agentic AI **Agentic AI** is a class of artificial intelligence that focuses on autonomous systems that can make decisions and perform tasks without human intervention. The core concept of agentic AI is the use of _AI agents_ to perform automated tasks but without human intervention. Further, multimodal learning enable AI agents to integrate various types of information, such as text, images, audio and video . Breakthroughs in deep learning, reinforcement learning, and neural networks allowed AI systems to learn on their own and make decision with minimal human guidance._[citation needed_] Consilience of agentic AI across autonomous transportation, industrial automation, and tailored healthcare has also supported its viability. ^ Jump up to: _**a**__**b**__**c**__**d**__**e**__**f**_\"Agentic AI: 6 promising use cases for business\". Agentic AI',\n",
       "   'score': 0.9709562,\n",
       "   'raw_content': None},\n",
       "  {'url': 'https://www.ibm.com/think/topics/agentic-ai',\n",
       "   'title': 'What Is Agentic AI? | IBM',\n",
       "   'content': \"What Is Agentic AI? What is agentic AI? AI Agents *   Agentic AI *   AI agent orchestration *   AI agent evaluation What is agentic AI? What are the advantages of agentic AI? How agentic AI works AI orchestration is the coordination and management of systems and agents. Examples of agentic AI Challenges for agentic AI systems Many agentic AI systems use reinforcement learning, which involves maximizing a reward function. Start adapting to a future that involves working closely with AI agents. AI agents for business  Explore watsonx Orchestrate IBM AI agent solutions  Explore AI agent solutions IBM Consulting AI services  Automate your complex workflows and create breakthrough productivity with one of the industry's most comprehensive set of capabilities for helping businesses build, customize and manage AI agents and assistants.\",\n",
       "   'score': 0.88799405,\n",
       "   'raw_content': None}],\n",
       " 'response_time': 1.05}"
      ]
     },
     "execution_count": 5,
     "metadata": {},
     "output_type": "execute_result"
    }
   ],
   "source": [
    "tavily.invoke(\"What is Agentic AI?\")"
   ]
  },
  {
   "cell_type": "code",
   "execution_count": 6,
   "id": "99c9d954",
   "metadata": {},
   "outputs": [],
   "source": [
    "# My Custom Tool -> It's Not any Thing Special, Just a Python Function\n",
    "\n",
    "def multiply(a:int, b:int) -> int:\n",
    "    \"\"\"Multiply a and b\n",
    "\n",
    "    Args:\n",
    "        a (int): first int\n",
    "        b (int): second int\n",
    "\n",
    "    Returns:\n",
    "        int: output int\n",
    "    \"\"\"\n",
    "    return a * b"
   ]
  },
  {
   "cell_type": "code",
   "execution_count": 7,
   "id": "49c1b27e",
   "metadata": {},
   "outputs": [],
   "source": [
    "tools = [tavily, multiply]"
   ]
  },
  {
   "cell_type": "code",
   "execution_count": 8,
   "id": "17b8a6db",
   "metadata": {},
   "outputs": [],
   "source": [
    "from langchain_groq import ChatGroq\n",
    "\n",
    "llm_with_tools = ChatGroq(model=\"llama-3.3-70b-versatile\").bind_tools(tools=tools)"
   ]
  },
  {
   "cell_type": "code",
   "execution_count": 9,
   "id": "47d6608f",
   "metadata": {},
   "outputs": [
    {
     "data": {
      "text/plain": [
       "RunnableBinding(bound=ChatGroq(client=<groq.resources.chat.completions.Completions object at 0x000002E613D43230>, async_client=<groq.resources.chat.completions.AsyncCompletions object at 0x000002E614E66660>, model_name='llama-3.3-70b-versatile', model_kwargs={}, groq_api_key=SecretStr('**********')), kwargs={'tools': [{'type': 'function', 'function': {'name': 'tavily_search', 'description': 'A search engine optimized for comprehensive, accurate, and trusted results. Useful for when you need to answer questions about current events. It not only retrieves URLs and snippets, but offers advanced search depths, domain management, time range filters, and image search, this tool delivers real-time, accurate, and citation-backed results.Input should be a search query.', 'parameters': {'properties': {'query': {'description': 'Search query to look up', 'type': 'string'}, 'include_domains': {'anyOf': [{'items': {'type': 'string'}, 'type': 'array'}, {'type': 'null'}], 'default': [], 'description': 'A list of domains to restrict search results to.\\n\\n        Use this parameter when:\\n        1. The user explicitly requests information from specific websites (e.g., \"Find climate data from nasa.gov\")\\n        2. The user mentions an organization or company without specifying the domain (e.g., \"Find information about iPhones from Apple\")\\n\\n        In both cases, you should determine the appropriate domains (e.g., [\"nasa.gov\"] or [\"apple.com\"]) and set this parameter.\\n\\n        Results will ONLY come from the specified domains - no other sources will be included.\\n        Default is None (no domain restriction).\\n        '}, 'exclude_domains': {'anyOf': [{'items': {'type': 'string'}, 'type': 'array'}, {'type': 'null'}], 'default': [], 'description': 'A list of domains to exclude from search results.\\n\\n        Use this parameter when:\\n        1. The user explicitly requests to avoid certain websites (e.g., \"Find information about climate change but not from twitter.com\")\\n        2. The user mentions not wanting results from specific organizations without naming the domain (e.g., \"Find phone reviews but nothing from Apple\")\\n\\n        In both cases, you should determine the appropriate domains to exclude (e.g., [\"twitter.com\"] or [\"apple.com\"]) and set this parameter.\\n\\n        Results will filter out all content from the specified domains.\\n        Default is None (no domain exclusion).\\n        '}, 'search_depth': {'anyOf': [{'enum': ['basic', 'advanced'], 'type': 'string'}, {'type': 'null'}], 'default': 'basic', 'description': 'Controls search thoroughness and result comprehensiveness.\\n    \\n        Use \"basic\" for simple queries requiring quick, straightforward answers.\\n        \\n        Use \"advanced\" (default) for complex queries, specialized topics, \\n        rare information, or when in-depth analysis is needed.\\n        '}, 'include_images': {'anyOf': [{'type': 'boolean'}, {'type': 'null'}], 'default': False, 'description': 'Determines if the search returns relevant images along with text results.\\n   \\n        Set to True when the user explicitly requests visuals or when images would \\n        significantly enhance understanding (e.g., \"Show me what black holes look like,\" \\n        \"Find pictures of Renaissance art\").\\n        \\n        Leave as False (default) for most informational queries where text is sufficient.\\n        '}, 'time_range': {'anyOf': [{'enum': ['day', 'week', 'month', 'year'], 'type': 'string'}, {'type': 'null'}], 'default': None, 'description': 'Limits results to content published within a specific timeframe.\\n        \\n        ONLY set this when the user explicitly mentions a time period \\n        (e.g., \"latest AI news,\" \"articles from last week\").\\n        \\n        For less popular or niche topics, use broader time ranges \\n        (\"month\" or \"year\") to ensure sufficient relevant results.\\n   \\n        Options: \"day\" (24h), \"week\" (7d), \"month\" (30d), \"year\" (365d).\\n        \\n        Default is None.\\n        '}, 'topic': {'anyOf': [{'enum': ['general', 'news', 'finance'], 'type': 'string'}, {'type': 'null'}], 'default': 'general', 'description': 'Specifies search category for optimized results.\\n   \\n        Use \"general\" (default) for most queries, INCLUDING those with terms like \\n        \"latest,\" \"newest,\" or \"recent\" when referring to general information.\\n\\n        Use \"finance\" for markets, investments, economic data, or financial news.\\n\\n        Use \"news\" ONLY for politics, sports, or major current events covered by \\n        mainstream media - NOT simply because a query asks for \"new\" information.\\n        '}, 'include_favicon': {'anyOf': [{'type': 'boolean'}, {'type': 'null'}], 'default': False, 'description': \"Determines whether to include favicon URLs for each search result.\\n        \\n        When enabled, each search result will include the website's favicon URL,\\n        which can be useful for:\\n        - Building rich UI interfaces with visual website indicators\\n        - Providing visual cues about the source's credibility or brand\\n        - Creating bookmark-like displays with recognizable site icons\\n        \\n        Set to True when creating user interfaces that benefit from visual branding\\n        or when favicon information enhances the user experience.\\n        \\n        Default is False to minimize response size and API usage.\\n        \"}, 'start_date': {'anyOf': [{'type': 'string'}, {'type': 'null'}], 'default': None, 'description': 'Filters search results to include only content published on or after this date.\\n        \\n        Use this parameter when you need to:\\n        - Find recent developments or updates on a topic\\n        - Exclude outdated information from search results\\n        - Focus on content within a specific timeframe\\n        - Combine with end_date to create a custom date range\\n        \\n        Format must be YYYY-MM-DD (e.g., \"2024-01-15\" for January 15, 2024).\\n        \\n        Examples:\\n        - \"2024-01-01\" - Results from January 1, 2024 onwards\\n        - \"2023-12-25\" - Results from December 25, 2023 onwards\\n        \\n        When combined with end_date, creates a precise date range filter.\\n        \\n        Default is None (no start date restriction).\\n        '}, 'end_date': {'anyOf': [{'type': 'string'}, {'type': 'null'}], 'default': None, 'description': 'Filters search results to include only content published on or before this date.\\n        \\n        Use this parameter when you need to:\\n        - Exclude content published after a certain date\\n        - Study historical information or past events\\n        - Research how topics were covered during specific time periods\\n        - Combine with start_date to create a custom date range\\n        \\n        Format must be YYYY-MM-DD (e.g., \"2024-03-31\" for March 31, 2024).\\n        \\n        Examples:\\n        - \"2024-03-31\" - Results up to and including March 31, 2024\\n        - \"2023-12-31\" - Results up to and including December 31, 2023\\n        \\n        When combined with start_date, creates a precise date range filter.\\n        For example: start_date=\"2024-01-01\", end_date=\"2024-03-31\" \\n        returns results from Q1 2024 only.\\n        \\n        Default is None (no end date restriction).\\n        '}}, 'required': ['query'], 'type': 'object'}}}, {'type': 'function', 'function': {'name': 'multiply', 'description': 'Multiply a and b', 'parameters': {'properties': {'a': {'description': 'first int', 'type': 'integer'}, 'b': {'description': 'second int', 'type': 'integer'}}, 'required': ['a', 'b'], 'type': 'object'}}}]}, config={}, config_factories=[])"
      ]
     },
     "execution_count": 9,
     "metadata": {},
     "output_type": "execute_result"
    }
   ],
   "source": [
    "llm_with_tools"
   ]
  },
  {
   "cell_type": "code",
   "execution_count": 10,
   "id": "0bd2f4ea",
   "metadata": {},
   "outputs": [],
   "source": [
    "from langgraph.graph import StateGraph, START, END\n",
    "from langgraph.prebuilt import ToolNode, tools_condition"
   ]
  },
  {
   "cell_type": "code",
   "execution_count": 11,
   "id": "f36c5fb9",
   "metadata": {},
   "outputs": [],
   "source": [
    "## Node Defination\n",
    "def tool_calling_llm(state: State):\n",
    "    return {\n",
    "        \"messages\": [llm_with_tools.invoke(state[\"messages\"])]\n",
    "    }"
   ]
  },
  {
   "cell_type": "code",
   "execution_count": 12,
   "id": "562c46d0",
   "metadata": {},
   "outputs": [],
   "source": [
    "## Initialize The State Graph\n",
    "graph_builder = StateGraph(State)"
   ]
  },
  {
   "cell_type": "code",
   "execution_count": 13,
   "id": "740d33fa",
   "metadata": {},
   "outputs": [
    {
     "data": {
      "text/plain": [
       "<langgraph.graph.state.StateGraph at 0x2e613a39580>"
      ]
     },
     "execution_count": 13,
     "metadata": {},
     "output_type": "execute_result"
    }
   ],
   "source": [
    "## Add The Required Nodes\n",
    "graph_builder.add_node(\"tool_calling_llm\", tool_calling_llm)\n",
    "graph_builder.add_node(\"tools\", ToolNode(tools=tools))"
   ]
  },
  {
   "cell_type": "code",
   "execution_count": 14,
   "id": "b4c98bb6",
   "metadata": {},
   "outputs": [
    {
     "data": {
      "text/plain": [
       "<langgraph.graph.state.StateGraph at 0x2e613a39580>"
      ]
     },
     "execution_count": 14,
     "metadata": {},
     "output_type": "execute_result"
    }
   ],
   "source": [
    "## Add The Needed Edges\n",
    "graph_builder.add_edge(START, \"tool_calling_llm\")\n",
    "graph_builder.add_conditional_edges(\n",
    "    \"tool_calling_llm\",\n",
    "    # If the latest message (result) from assistant is a tool call -> tools_condition routes to tools\n",
    "    # If the latest message (result) from assistant is a not a tool call -> tools_condition routes to END\n",
    "    tools_condition\n",
    ")\n",
    "graph_builder.add_edge(\"tools\", \"tool_calling_llm\")"
   ]
  },
  {
   "cell_type": "code",
   "execution_count": 15,
   "id": "44210153",
   "metadata": {},
   "outputs": [],
   "source": [
    "## Let's Compile The Graph\n",
    "graph = graph_builder.compile()"
   ]
  },
  {
   "cell_type": "code",
   "execution_count": 16,
   "id": "ab2e56ae",
   "metadata": {},
   "outputs": [
    {
     "data": {
      "image/png": "[encoded data removed]",
      "text/plain": [
       "<IPython.core.display.Image object>"
      ]
     },
     "metadata": {},
     "output_type": "display_data"
    }
   ],
   "source": [
    "## Display The Graph\n",
    "from IPython.display import display, Image\n",
    "\n",
    "display(Image(graph.get_graph().draw_mermaid_png()))"
   ]
  },
  {
   "cell_type": "code",
   "execution_count": 17,
   "id": "32b74beb",
   "metadata": {},
   "outputs": [
    {
     "data": {
      "text/plain": [
       "{'messages': [HumanMessage(content='What is the latest news about Reinforcement Learning?', additional_kwargs={}, response_metadata={}, id='12d27965-f0bc-4d3c-b057-52e5ee890bfa'),\n",
       "  AIMessage(content='', additional_kwargs={'tool_calls': [{'id': 'cad2w30a0', 'function': {'arguments': '{\"query\":\"latest news Reinforcement Learning\",\"search_depth\":\"advanced\",\"topic\":\"general\"}', 'name': 'tavily_search'}, 'type': 'function'}]}, response_metadata={'token_usage': {'completion_tokens': 33, 'prompt_tokens': 1859, 'total_tokens': 1892, 'completion_time': 0.076393624, 'prompt_time': 0.14247717, 'queue_time': 0.08815417800000003, 'total_time': 0.218870794}, 'model_name': 'llama-3.3-70b-versatile', 'system_fingerprint': 'fp_6507bcfb6f', 'service_tier': 'on_demand', 'finish_reason': 'tool_calls', 'logprobs': None}, id='run--9ba437ac-3bc1-4c7e-b723-578b68df4ad0-0', tool_calls=[{'name': 'tavily_search', 'args': {'query': 'latest news Reinforcement Learning', 'search_depth': 'advanced', 'topic': 'general'}, 'id': 'cad2w30a0', 'type': 'tool_call'}], usage_metadata={'input_tokens': 1859, 'output_tokens': 33, 'total_tokens': 1892}),\n",
       "  ToolMessage(content='{\"query\": \"latest news Reinforcement Learning\", \"follow_up_questions\": null, \"answer\": null, \"images\": [], \"results\": [{\"url\": \"https://medium.com/@fahey_james/the-state-of-reinforcement-learning-in-2025-foundations-frontiers-and-future-applications-c81ae556fc8a\", \"title\": \"The State of Reinforcement Learning in 2025: Foundations ...\", \"content\": \"Reinforcement learning in 2025 remains both promising and limited. It dominates AI headlines with demonstrations of high intelligence and autonomy but faces practical hurdles such as sample inefficiency, reward shaping, and real-world safety constraints. Ongoing work on generalist agents (e.g., DeepMind’s Gato or OpenAI’s GPT agents with memory and decision modules) hints at a future where RL fuses with LLMs, robotics, and unsupervised pretraining. [...] • “Mastering the Game of Go with Deep Neural Networks and Tree Search”\\u200a—\\u200aSilver et al. (2016) [AlphaGo]\\\\n\\\\n• “Proximal Policy Optimization Algorithms”\\u200a—\\u200aSchulman et al. (2017)\\\\n\\\\n• “Mastering Atari, Go, Chess and Shogi by Planning with a Learned Model”\\u200a—\\u200aSchrittwieser et al. (2020) [MuZero]\\\\n\\\\n⸻\\\\n\\\\nLooking Ahead [...] • “A Few Useful Things to Know About Machine Learning”\\u200a—\\u200aPedro Domingos (2012)\\\\n\\\\n• “ImageNet Classification with Deep Convolutional Neural Networks”\\u200a—\\u200aKrizhevsky et al. (2012)\\\\n\\\\n• “Attention Is All You Need”\\u200a—\\u200aVaswani et al. (2017)\\\\n\\\\nReinforcement Learning:\\\\n\\\\n• “Learning from Delayed Rewards”\\u200a—\\u200aChris Watkins (1989) [Q-learning]\\\\n\\\\n• “Reinforcement Learning: An Introduction”\\u200a—\\u200aSutton & Barto (Book, 1998 / 2018)\\\\n\\\\n• “Playing Atari with Deep Reinforcement Learning”\\u200a—\\u200aMnih et al. (2013) [DQN]\", \"score\": 0.70702106, \"raw_content\": null}, {\"url\": \"https://rl-conference.cc/\", \"title\": \"Reinforcement Learning Conference (RLC 2025).\", \"content\": \"# Important Dates\\\\n\\\\n|  |  |\\\\n| --- | --- |\\\\n| Abstract submission deadline | February 21, 2025 |\\\\n| Paper submission deadline | February 28, 2025 |\\\\n| Author notification | May 9, 2025 |\\\\n| Early bird registration deadline | ~~May 30~~ June 23, 2025 |\\\\n| Conference | August 5-9, 2025 |\\\\n\\\\n# Quick Links\\\\n\\\\n|  |\\\\n| --- |\\\\n| Register |\\\\n| Conference Schedule |\\\\n| Workshops |\\\\n| Accepted Papers |\\\\n| Information for Attendees/FAQs |\\\\n\\\\n# Keynote Speakers\\\\n\\\\n# Sponsors\\\\n\\\\n# University of Alberta [...] Company logo\\\\nCompany logo\\\\n\\\\nAn author from each paper is required to register and attend the conference. If there are exceptional circumstances that prohibit you from attending, then please email (/cdn-cgi/l/email-protection).\\\\n\\\\nRLC logo\\\\n\\\\nThe second Reinforcement Learning Conference (RLC) will take place from August 5th to 9th,\\\\n2025, at CCIS, the University of Alberta, Edmonton, AB, Canada.\\\\n\\\\n# About RLC [...] RLC provides a venue where reinforcement learning researchers can interact and share their\\\\nresearch in a more focused setting than typical large machine learning venues.\\\\nAll work presented at RLC is published in the associated Reinforcement Learning Journal (RLJ).\\\\nThe RLJ is an independent, peer-reviewed journal that serves as a primary source of\\\\nscholarly\\\\narticles. The RLC enhances the reach and impact of the research published within the journal\\\\nby\", \"score\": 0.6607204, \"raw_content\": null}], \"response_time\": 2.15}', name='tavily_search', id='1df405c5-aa46-45c4-8a3f-2c278374fcee', tool_call_id='cad2w30a0'),\n",
       "  AIMessage(content='The latest news about Reinforcement Learning is that it remains both promising and limited, with ongoing work on generalist agents and fusion with LLMs, robotics, and unsupervised pretraining. The Reinforcement Learning Conference (RLC 2025) will take place from August 5th to 9th, 2025, at the University of Alberta, Edmonton, AB, Canada, and will provide a venue for reinforcement learning researchers to interact and share their research.', additional_kwargs={}, response_metadata={'token_usage': {'completion_tokens': 97, 'prompt_tokens': 2775, 'total_tokens': 2872, 'completion_time': 0.16219874, 'prompt_time': 0.209418738, 'queue_time': 0.08776214999999998, 'total_time': 0.371617478}, 'model_name': 'llama-3.3-70b-versatile', 'system_fingerprint': 'fp_e91e6fbd56', 'service_tier': 'on_demand', 'finish_reason': 'stop', 'logprobs': None}, id='run--c6406339-0721-472d-a120-2217c02bfc48-0', usage_metadata={'input_tokens': 2775, 'output_tokens': 97, 'total_tokens': 2872})]}"
      ]
     },
     "execution_count": 17,
     "metadata": {},
     "output_type": "execute_result"
    }
   ],
   "source": [
    "graph.invoke({\n",
    "    \"messages\": \"What is the latest news about Reinforcement Learning?\"\n",
    "})"
   ]
  },
  {
   "cell_type": "code",
   "execution_count": 18,
   "id": "948b863e",
   "metadata": {},
   "outputs": [
    {
     "data": {
      "text/plain": [
       "'The latest news about Reinforcement Learning is that the market is expected to grow from $10.49 billion in 2024 to $13.52 billion in 2025, with a compound annual growth rate (CAGR) of 28.9%. Additionally, there are new developments in the field, such as reflective prompt evolution, which can outperform reinforcement learning in certain tasks.'"
      ]
     },
     "execution_count": 18,
     "metadata": {},
     "output_type": "execute_result"
    }
   ],
   "source": [
    "response = graph.invoke({\n",
    "    \"messages\": \"What is the latest news about Reinforcement Learning?\"\n",
    "})\n",
    "\n",
    "response[\"messages\"][-1].content"
   ]
  },
  {
   "cell_type": "code",
   "execution_count": 19,
   "id": "0e75f026",
   "metadata": {},
   "outputs": [
    {
     "name": "stdout",
     "output_type": "stream",
     "text": [
      "================================\u001b[1m Human Message \u001b[0m=================================\n",
      "\n",
      "What is the latest news about Reinforcement Learning?\n",
      "==================================\u001b[1m Ai Message \u001b[0m==================================\n",
      "Tool Calls:\n",
      "  tavily_search (f62k2bwhc)\n",
      " Call ID: f62k2bwhc\n",
      "  Args:\n",
      "    query: latest news Reinforcement Learning\n",
      "    time_range: day\n",
      "    topic: general\n",
      "=================================\u001b[1m Tool Message \u001b[0m=================================\n",
      "Name: tavily_search\n",
      "\n",
      "{\"query\": \"latest news Reinforcement Learning\", \"follow_up_questions\": null, \"answer\": null, \"images\": [], \"results\": [{\"url\": \"https://www.openpr.com/news/4127549/future-of-the-reinforcement-learning-market-trends\", \"title\": \"Future of the Reinforcement Learning Market: Trends, - openPR.com\", \"content\": \"Moving from $10.49 billion in 2024, the market is slated to reach $13.52 billion in 2025, witnessing a compound annual growth rate (CAGR) of 28.9%.\", \"score\": 0.55362654, \"raw_content\": null}, {\"url\": \"https://news.ycombinator.com/item?id=44744331\", \"title\": \"Reflective prompt evolution can outperform reinforcement learning\", \"content\": \"GEPA: Reflective prompt evolution can outperform reinforcement learning. Hacker News. These models / nets / whatever are much \\\"smarter\\\" (loaded term) than we\", \"score\": 0.3066936, \"raw_content\": null}], \"response_time\": 0.91}\n",
      "==================================\u001b[1m Ai Message \u001b[0m==================================\n",
      "\n",
      "The latest news about Reinforcement Learning is that the market is expected to grow from $10.49 billion in 2024 to $13.52 billion in 2025, with a compound annual growth rate (CAGR) of 28.9%. Additionally, there are new developments in the field, such as reflective prompt evolution, which can outperform reinforcement learning in certain tasks.\n"
     ]
    }
   ],
   "source": [
    "for message in response[\"messages\"]:\n",
    "    message.pretty_print()"
   ]
  },
  {
   "cell_type": "code",
   "execution_count": 20,
   "id": "d670a1be",
   "metadata": {},
   "outputs": [
    {
     "name": "stdout",
     "output_type": "stream",
     "text": [
      "================================\u001b[1m Human Message \u001b[0m=================================\n",
      "\n",
      "Multiply 51 and 6\n",
      "==================================\u001b[1m Ai Message \u001b[0m==================================\n",
      "Tool Calls:\n",
      "  multiply (rveecdnxn)\n",
      " Call ID: rveecdnxn\n",
      "  Args:\n",
      "    a: 51\n",
      "    b: 6\n",
      "=================================\u001b[1m Tool Message \u001b[0m=================================\n",
      "Name: multiply\n",
      "\n",
      "306\n",
      "==================================\u001b[1m Ai Message \u001b[0m==================================\n",
      "\n",
      "The result of multiplying 51 and 6 is 306.\n"
     ]
    }
   ],
   "source": [
    "response = graph.invoke({\n",
    "    \"messages\": \"Multiply 51 and 6\"\n",
    "})\n",
    "\n",
    "for message in response[\"messages\"]:\n",
    "    message.pretty_print()"
   ]
  },
  {
   "cell_type": "code",
   "execution_count": 21,
   "id": "6e607380",
   "metadata": {},
   "outputs": [
    {
     "name": "stdout",
     "output_type": "stream",
     "text": [
      "================================\u001b[1m Human Message \u001b[0m=================================\n",
      "\n",
      "What is the latest news about Reinforcement Learning and then Multiply 51 by 6??\n",
      "==================================\u001b[1m Ai Message \u001b[0m==================================\n",
      "Tool Calls:\n",
      "  tavily_search (v0y8w1gj5)\n",
      " Call ID: v0y8w1gj5\n",
      "  Args:\n",
      "    query: latest news Reinforcement Learning\n",
      "    search_depth: advanced\n",
      "    topic: general\n",
      "  multiply (5vx8gb504)\n",
      " Call ID: 5vx8gb504\n",
      "  Args:\n",
      "    a: 51\n",
      "    b: 6\n",
      "=================================\u001b[1m Tool Message \u001b[0m=================================\n",
      "Name: tavily_search\n",
      "\n",
      "{\"query\": \"latest news Reinforcement Learning\", \"follow_up_questions\": null, \"answer\": null, \"images\": [], \"results\": [{\"url\": \"https://medium.com/@fahey_james/the-state-of-reinforcement-learning-in-2025-foundations-frontiers-and-future-applications-c81ae556fc8a\", \"title\": \"The State of Reinforcement Learning in 2025: Foundations ...\", \"content\": \"Reinforcement learning in 2025 remains both promising and limited. It dominates AI headlines with demonstrations of high intelligence and autonomy but faces practical hurdles such as sample inefficiency, reward shaping, and real-world safety constraints. Ongoing work on generalist agents (e.g., DeepMind’s Gato or OpenAI’s GPT agents with memory and decision modules) hints at a future where RL fuses with LLMs, robotics, and unsupervised pretraining. [...] • “Mastering the Game of Go with Deep Neural Networks and Tree Search” — Silver et al. (2016) [AlphaGo]\\n\\n• “Proximal Policy Optimization Algorithms” — Schulman et al. (2017)\\n\\n• “Mastering Atari, Go, Chess and Shogi by Planning with a Learned Model” — Schrittwieser et al. (2020) [MuZero]\\n\\n⸻\\n\\nLooking Ahead [...] • “A Few Useful Things to Know About Machine Learning” — Pedro Domingos (2012)\\n\\n• “ImageNet Classification with Deep Convolutional Neural Networks” — Krizhevsky et al. (2012)\\n\\n• “Attention Is All You Need” — Vaswani et al. (2017)\\n\\nReinforcement Learning:\\n\\n• “Learning from Delayed Rewards” — Chris Watkins (1989) [Q-learning]\\n\\n• “Reinforcement Learning: An Introduction” — Sutton & Barto (Book, 1998 / 2018)\\n\\n• “Playing Atari with Deep Reinforcement Learning” — Mnih et al. (2013) [DQN]\", \"score\": 0.70702106, \"raw_content\": null}, {\"url\": \"https://datarootlabs.com/blog/state-of-reinforcement-learning-2025\", \"title\": \"The State of Reinforcement Learning in 2025 - DataRoot Labs\", \"content\": \"Companies such as Wayve, which recently launched a test campaign in California in collaboration with Uber, and Waymo, Alphabet's subsidiary, are at the forefront of this field, attracting substantial investments. Established automotive giants like Tesla, Audi, BMW, and Ford also leverage RL to enhance their autonomous driving capabilities, often outperforming traditional rule-based approaches. [...] | AI Capital Management | USA / 2016 | — | Nex Cubed, MassChallenge | Company applies a deep reinforcement learning to develop a quantitative trading platform designed to provide AI algorithm alternatives for hedge funds. |\\n| AICA | Switzerland / 2019 | $1.6M Non Equity Assistance | Innovaud, HTGF | Develops reinforcement learning and close-loop force control for robots, enabling them to autonomously adapt to changes and handle hazardous manual tasks efficiently. | [...] | ProteinQure | Canada / 2017 | $4.6M Seed | Inovia Capital, 8VC | Automates protein-based drug design using scalable algorithms, combining quantum annealing and reinforcement learning to expedite and reduce costs of development. |\\n| Quilter | USA / 2019 | $10M A | Root Ventures, Harrison Metal | Develops AI-driven software for generative circuit board design, leveraging reinforcement learning and neural nets to accelerate electronics innovation and manage design aspects. |\", \"score\": 0.6747586, \"raw_content\": null}], \"response_time\": 3.47}\n",
      "=================================\u001b[1m Tool Message \u001b[0m=================================\n",
      "Name: multiply\n",
      "\n",
      "306\n",
      "==================================\u001b[1m Ai Message \u001b[0m==================================\n",
      "\n",
      "The latest news about Reinforcement Learning includes its application in various fields such as autonomous driving, robotics, and drug design. Companies like Wayve, Waymo, Tesla, Audi, BMW, and Ford are leveraging Reinforcement Learning to enhance their autonomous driving capabilities. Additionally, startups like AICA, ProteinQure, and Quilter are using Reinforcement Learning to develop innovative solutions in fields like robotics, drug design, and electronics innovation.\n",
      "\n",
      "The result of multiplying 51 by 6 is 306.\n"
     ]
    }
   ],
   "source": [
    "response = graph.invoke({\n",
    "    \"messages\": \"What is the latest news about Reinforcement Learning and then Multiply 51 by 6??\"\n",
    "})\n",
    "\n",
    "for message in response[\"messages\"]:\n",
    "    message.pretty_print()"
   ]
  }
 ],
 "metadata": {
  "kernelspec": {
   "display_name": "End-To-End LangGraph and MCP Agentic AI Project",
   "language": "python",
   "name": "python3"
  },
  "language_info": {
   "codemirror_mode": {
    "name": "ipython",
    "version": 3
   },
   "file_extension": ".py",
   "mimetype": "text/x-python",
   "name": "python",
   "nbconvert_exporter": "python",
   "pygments_lexer": "ipython3",
   "version": "3.12.11"
  }
 },
 "nbformat": 4,
 "nbformat_minor": 5
}
