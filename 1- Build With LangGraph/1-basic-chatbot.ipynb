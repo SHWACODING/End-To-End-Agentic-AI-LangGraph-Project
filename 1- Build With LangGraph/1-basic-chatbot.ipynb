{
 "cells": [
  {
   "cell_type": "markdown",
   "id": "cb45e279",
   "metadata": {},
   "source": [
    "### Build A Basic ChatBot With LangGraph (GRAPH API)"
   ]
  },
  {
   "cell_type": "code",
   "execution_count": 1,
   "id": "16db8ffb",
   "metadata": {},
   "outputs": [],
   "source": [
    "from typing_extensions import TypedDict               ## TypedDict -> Dict with Type Hints\n",
    "from typing import Annotated                          ## Annotated -> Type Hints with Metadata\n",
    "\n",
    "from langgraph.graph import StateGraph, START, END    ## StateGraph -> Graph API\n",
    "from langgraph.graph.message import add_messages      ## Reducer -> Append Instead of Overwrite"
   ]
  },
  {
   "cell_type": "code",
   "execution_count": 2,
   "id": "6d62f8f4",
   "metadata": {},
   "outputs": [],
   "source": [
    "class State(TypedDict):\n",
    "    # Messages have the type \"list\". The `add_messages` function\n",
    "    # in the annotation defines how this state key should be updated\n",
    "    # (in this case, it appends messages to the list, rather than overwriting them)\n",
    "    messages: Annotated[list, add_messages]  ## Messages -> List of Dicts with Metadata"
   ]
  },
  {
   "cell_type": "code",
   "execution_count": 3,
   "id": "588e7779",
   "metadata": {},
   "outputs": [],
   "source": [
    "import os\n",
    "from dotenv import load_dotenv\n",
    "\n",
    "load_dotenv()\n",
    "\n",
    "os.environ[\"GROQ_API_KEY\"] = os.getenv(\"GROQ_API_KEY\")"
   ]
  },
  {
   "cell_type": "code",
   "execution_count": 4,
   "id": "9baee4f4",
   "metadata": {},
   "outputs": [
    {
     "data": {
      "text/plain": [
       "ChatGroq(client=<groq.resources.chat.completions.Completions object at 0x0000026CDFF2CE60>, async_client=<groq.resources.chat.completions.AsyncCompletions object at 0x0000026CE1141790>, model_name='llama-3.3-70b-versatile', model_kwargs={}, groq_api_key=SecretStr('**********'))"
      ]
     },
     "execution_count": 4,
     "metadata": {},
     "output_type": "execute_result"
    }
   ],
   "source": [
    "from langchain_groq import ChatGroq\n",
    "\n",
    "llm  = ChatGroq(model=\"llama-3.3-70b-versatile\")\n",
    "\n",
    "llm"
   ]
  },
  {
   "cell_type": "markdown",
   "id": "d2e40387",
   "metadata": {},
   "source": [
    "Same LLM But With Different Way ->"
   ]
  },
  {
   "cell_type": "code",
   "execution_count": 5,
   "id": "9b63b855",
   "metadata": {},
   "outputs": [
    {
     "data": {
      "text/plain": [
       "ChatGroq(client=<groq.resources.chat.completions.Completions object at 0x0000026CDFE27CE0>, async_client=<groq.resources.chat.completions.AsyncCompletions object at 0x0000026CE117BAA0>, model_name='llama-3.3-70b-versatile', model_kwargs={}, groq_api_key=SecretStr('**********'))"
      ]
     },
     "execution_count": 5,
     "metadata": {},
     "output_type": "execute_result"
    }
   ],
   "source": [
    "from langchain.chat_models import init_chat_model\n",
    "\n",
    "llm = init_chat_model(\"groq:llama-3.3-70b-versatile\")\n",
    "\n",
    "llm"
   ]
  },
  {
   "cell_type": "code",
   "execution_count": 6,
   "id": "6c0e0c30",
   "metadata": {},
   "outputs": [],
   "source": [
    "def chatbot(state: State):\n",
    "    return {\n",
    "        \"messages\": [llm.invoke(state[\"messages\"])]\n",
    "    }"
   ]
  },
  {
   "cell_type": "code",
   "execution_count": 7,
   "id": "9f4a96cc",
   "metadata": {},
   "outputs": [],
   "source": [
    "## Initialize the StateGraph with the defined state\n",
    "graph_builder = StateGraph(State)"
   ]
  },
  {
   "cell_type": "code",
   "execution_count": 8,
   "id": "1919c782",
   "metadata": {},
   "outputs": [
    {
     "data": {
      "text/plain": [
       "<langgraph.graph.state.StateGraph at 0x26cdfcf9e50>"
      ]
     },
     "execution_count": 8,
     "metadata": {},
     "output_type": "execute_result"
    }
   ],
   "source": [
    "## ADD the chatbot function as Node to the graph\n",
    "graph_builder.add_node(\"llmchatbot\", chatbot)"
   ]
  },
  {
   "cell_type": "code",
   "execution_count": 9,
   "id": "29715083",
   "metadata": {},
   "outputs": [
    {
     "data": {
      "text/plain": [
       "<langgraph.graph.state.StateGraph at 0x26cdfcf9e50>"
      ]
     },
     "execution_count": 9,
     "metadata": {},
     "output_type": "execute_result"
    }
   ],
   "source": [
    "## ADD Edges to the graph\n",
    "graph_builder.add_edge(START, \"llmchatbot\")\n",
    "graph_builder.add_edge(\"llmchatbot\", END)"
   ]
  },
  {
   "cell_type": "code",
   "execution_count": 10,
   "id": "1069803a",
   "metadata": {},
   "outputs": [],
   "source": [
    "## Let's Compile the graph\n",
    "graph = graph_builder.compile()"
   ]
  },
  {
   "cell_type": "code",
   "execution_count": 11,
   "id": "ee807eeb",
   "metadata": {},
   "outputs": [
    {
     "data": {
      "image/png": "[encoded data removed]",
      "text/plain": [
       "<IPython.core.display.Image object>"
      ]
     },
     "metadata": {},
     "output_type": "display_data"
    }
   ],
   "source": [
    "## Let's visualize the graph\n",
    "from IPython.display import display, Image\n",
    "\n",
    "try:\n",
    "    display(Image(graph.get_graph().draw_mermaid_png()))\n",
    "except Exception as e:\n",
    "    print(f\"Error displaying graph: {e}\")"
   ]
  },
  {
   "cell_type": "code",
   "execution_count": 12,
   "id": "c70dbc89",
   "metadata": {},
   "outputs": [],
   "source": [
    "response = graph.invoke({\n",
    "    \"messages\": \"Explain me Quantum AI in simple terms.\"\n",
    "})"
   ]
  },
  {
   "cell_type": "code",
   "execution_count": 13,
   "id": "b61d4dac",
   "metadata": {},
   "outputs": [
    {
     "data": {
      "text/plain": [
       "{'messages': [HumanMessage(content='Explain me Quantum AI in simple terms.', additional_kwargs={}, response_metadata={}, id='29d7a570-59c0-4234-94dc-989cee68db35'),\n",
       "  AIMessage(content=\"Quantum AI is a fascinating field that combines two complex concepts: Quantum Computing and Artificial Intelligence. I'll try to break it down in simple terms:\\n\\n**Quantum Computing:**\\nImagine you have a huge library with an infinite number of books. A classical computer would look through the books one by one to find the information you need. A quantum computer, on the other hand, can look at all the books simultaneously, which makes it incredibly fast for certain types of calculations.\\n\\n**Artificial Intelligence (AI):**\\nAI is like a super-smart robot that can learn from data, make decisions, and perform tasks on its own. It's like a computer program that can think and adapt like a human.\\n\\n**Quantum AI:**\\nNow, imagine combining the power of quantum computing with the intelligence of AI. Quantum AI uses the speed and capabilities of quantum computers to improve AI systems. This allows AI to:\\n\\n1. **Process vast amounts of data:** Quantum computers can handle enormous amounts of data, which is essential for training AI models.\\n2. **Solve complex problems:** Quantum AI can tackle complex problems that are difficult or impossible for classical computers to solve, such as optimizing complex systems or simulating complex phenomena.\\n3. **Improve machine learning:** Quantum AI can speed up machine learning algorithms, enabling AI to learn from data faster and more accurately.\\n4. **Enhance decision-making:** Quantum AI can analyze vast amounts of data to make better decisions, such as predicting stock market trends or optimizing supply chains.\\n\\n**Potential applications:**\\nQuantum AI has the potential to revolutionize various fields, including:\\n\\n1. **Healthcare:** Quantum AI can help analyze medical images, diagnose diseases, and develop personalized treatment plans.\\n2. **Finance:** Quantum AI can optimize investment portfolios, predict market trends, and detect financial fraud.\\n3. **Cybersecurity:** Quantum AI can help detect and prevent cyber threats by analyzing vast amounts of network data.\\n4. **Climate modeling:** Quantum AI can simulate complex climate systems, helping us better understand and predict climate change.\\n\\nIn summary, Quantum AI is a powerful combination of quantum computing and artificial intelligence that can solve complex problems, process vast amounts of data, and improve decision-making. Its potential applications are vast and exciting, and researchers are just beginning to explore its possibilities.\", additional_kwargs={}, response_metadata={'token_usage': {'completion_tokens': 466, 'prompt_tokens': 44, 'total_tokens': 510, 'completion_time': 1.111960284, 'prompt_time': 0.010906288, 'queue_time': 0.08408993, 'total_time': 1.122866572}, 'model_name': 'llama-3.3-70b-versatile', 'system_fingerprint': 'fp_3f3b593e33', 'service_tier': 'on_demand', 'finish_reason': 'stop', 'logprobs': None}, id='run--7ea3d60a-bed4-40c1-a43d-b7a7b6ad9dd3-0', usage_metadata={'input_tokens': 44, 'output_tokens': 466, 'total_tokens': 510})]}"
      ]
     },
     "execution_count": 13,
     "metadata": {},
     "output_type": "execute_result"
    }
   ],
   "source": [
    "response"
   ]
  },
  {
   "cell_type": "code",
   "execution_count": 17,
   "id": "ab227040",
   "metadata": {},
   "outputs": [
    {
     "data": {
      "text/plain": [
       "\"Quantum AI is a fascinating field that combines two complex concepts: Quantum Computing and Artificial Intelligence. I'll try to break it down in simple terms:\\n\\n**Quantum Computing:**\\nImagine you have a huge library with an infinite number of books. A classical computer would look through the books one by one to find the information you need. A quantum computer, on the other hand, can look at all the books simultaneously, which makes it incredibly fast for certain types of calculations.\\n\\n**Artificial Intelligence (AI):**\\nAI is like a super-smart robot that can learn from data, make decisions, and perform tasks on its own. It's like a computer program that can think and adapt like a human.\\n\\n**Quantum AI:**\\nNow, imagine combining the power of quantum computing with the intelligence of AI. Quantum AI uses the speed and capabilities of quantum computers to improve AI systems. This allows AI to:\\n\\n1. **Process vast amounts of data:** Quantum computers can handle enormous amounts of data, which is essential for training AI models.\\n2. **Solve complex problems:** Quantum AI can tackle complex problems that are difficult or impossible for classical computers to solve, such as optimizing complex systems or simulating complex phenomena.\\n3. **Improve machine learning:** Quantum AI can speed up machine learning algorithms, enabling AI to learn from data faster and more accurately.\\n4. **Enhance decision-making:** Quantum AI can analyze vast amounts of data to make better decisions, such as predicting stock market trends or optimizing supply chains.\\n\\n**Potential applications:**\\nQuantum AI has the potential to revolutionize various fields, including:\\n\\n1. **Healthcare:** Quantum AI can help analyze medical images, diagnose diseases, and develop personalized treatment plans.\\n2. **Finance:** Quantum AI can optimize investment portfolios, predict market trends, and detect financial fraud.\\n3. **Cybersecurity:** Quantum AI can help detect and prevent cyber threats by analyzing vast amounts of network data.\\n4. **Climate modeling:** Quantum AI can simulate complex climate systems, helping us better understand and predict climate change.\\n\\nIn summary, Quantum AI is a powerful combination of quantum computing and artificial intelligence that can solve complex problems, process vast amounts of data, and improve decision-making. Its potential applications are vast and exciting, and researchers are just beginning to explore its possibilities.\""
      ]
     },
     "execution_count": 17,
     "metadata": {},
     "output_type": "execute_result"
    }
   ],
   "source": [
    "response[\"messages\"][-1].content"
   ]
  },
  {
   "cell_type": "code",
   "execution_count": 18,
   "id": "b822d1cd",
   "metadata": {},
   "outputs": [
    {
     "name": "stdout",
     "output_type": "stream",
     "text": [
      "{'llmchatbot': {'messages': [AIMessage(content='Agentic AI refers to a type of artificial intelligence (AI) that is capable of autonomous decision-making, problem-solving, and action-taking. The term \"agentic\" comes from the concept of agency, which refers to the ability of an entity to act independently and make choices that affect its environment.\\n\\nAgentic AI systems are designed to be proactive, self-directed, and adaptable, allowing them to navigate complex situations and make decisions without explicit human instruction. They can perceive their environment, reason about the current state of affairs, and take actions to achieve their goals, often in real-time.\\n\\nThe key characteristics of agentic AI include:\\n\\n1. **Autonomy**: Agentic AI systems can operate independently, making decisions and taking actions without human intervention.\\n2. **Self-directedness**: They can set their own goals, prioritize tasks, and allocate resources to achieve their objectives.\\n3. **Adaptability**: Agentic AI systems can adapt to changing circumstances, learn from experience, and adjust their behavior accordingly.\\n4. **Proactivity**: They can anticipate and respond to events, rather than simply reacting to them.\\n5. **Contextual understanding**: Agentic AI systems can understand the context in which they are operating, including the social, cultural, and environmental factors that influence their behavior.\\n\\nAgentic AI has numerous applications in areas like:\\n\\n1. **Robotics**: Autonomous robots that can navigate and interact with their environment.\\n2. **Smart homes and cities**: Intelligent systems that can manage energy, transportation, and other infrastructure.\\n3. **Healthcare**: Personalized medicine and autonomous healthcare systems that can diagnose and treat patients.\\n4. **Finance**: Autonomous trading systems and financial advisors that can make investment decisions.\\n5. **Cybersecurity**: AI-powered systems that can detect and respond to cyber threats.\\n\\nHowever, the development of agentic AI also raises important questions about accountability, transparency, and ethics, as these systems can have significant impacts on individuals and society.', additional_kwargs={}, response_metadata={'token_usage': {'completion_tokens': 394, 'prompt_tokens': 42, 'total_tokens': 436, 'completion_time': 0.880447239, 'prompt_time': 0.011162137, 'queue_time': 0.087249724, 'total_time': 0.891609376}, 'model_name': 'llama-3.3-70b-versatile', 'system_fingerprint': 'fp_9a8b91ba77', 'service_tier': 'on_demand', 'finish_reason': 'stop', 'logprobs': None}, id='run--b62978ae-6d8b-4c78-a89c-ef046734763d-0', usage_metadata={'input_tokens': 42, 'output_tokens': 394, 'total_tokens': 436})]}}\n"
     ]
    }
   ],
   "source": [
    "for event in graph.stream({\"messages\":\"What is Actually Agentic AI?\"}):\n",
    "    print(event)"
   ]
  },
  {
   "cell_type": "code",
   "execution_count": 19,
   "id": "f69d8453",
   "metadata": {},
   "outputs": [
    {
     "name": "stdout",
     "output_type": "stream",
     "text": [
      "Agentic AI refers to a type of artificial intelligence (AI) that is capable of autonomous decision-making and action, with the ability to achieve specific goals and objectives. The term \"agentic\" comes from the word \"agent,\" which in AI refers to a program or system that can perceive its environment, reason, and act to achieve its goals.\n",
      "\n",
      "Agentic AI systems are designed to be proactive, adaptable, and responsive to changing situations, much like human agents. They can interact with their environment, learn from experience, and make decisions based on their own goals, values, and preferences.\n",
      "\n",
      "Key characteristics of agentic AI include:\n",
      "\n",
      "1. **Autonomy**: Agentic AI systems can operate independently, making decisions and taking actions without human intervention.\n",
      "2. **Goal-directed behavior**: Agentic AI systems are designed to achieve specific goals and objectives, which guide their decision-making and action.\n",
      "3. **Self-awareness**: Agentic AI systems have a sense of their own capabilities, limitations, and context, which informs their decision-making.\n",
      "4. **Learning and adaptation**: Agentic AI systems can learn from experience, adapt to changing situations, and improve their performance over time.\n",
      "5. **Decision-making**: Agentic AI systems can make decisions based on their own goals, values, and preferences, rather than simply following pre-programmed rules.\n",
      "\n",
      "Examples of agentic AI include:\n",
      "\n",
      "1. **Autonomous vehicles**: Self-driving cars and drones that can navigate and make decisions in real-time.\n",
      "2. **Personal assistants**: Virtual assistants like Siri, Alexa, or Google Assistant that can learn and adapt to individual preferences.\n",
      "3. **Robots**: Industrial robots that can learn and adapt to new tasks and environments.\n",
      "4. **Smart home systems**: Home automation systems that can learn and adapt to individual habits and preferences.\n",
      "\n",
      "The benefits of agentic AI include:\n",
      "\n",
      "1. **Increased efficiency**: Agentic AI systems can automate routine tasks and make decisions faster and more accurately than humans.\n",
      "2. **Improved decision-making**: Agentic AI systems can make decisions based on complex data and analytics, leading to better outcomes.\n",
      "3. **Enhanced user experience**: Agentic AI systems can learn and adapt to individual preferences, leading to more personalized and engaging experiences.\n",
      "\n",
      "However, agentic AI also raises important questions and concerns, such as:\n",
      "\n",
      "1. **Accountability**: Who is responsible when an agentic AI system makes a decision or takes an action that has unintended consequences?\n",
      "2. **Transparency**: How can we understand and explain the decision-making processes of agentic AI systems?\n",
      "3. **Ethics**: How can we ensure that agentic AI systems align with human values and ethics, and do not perpetuate biases or harm?\n",
      "\n",
      "Overall, agentic AI has the potential to revolutionize many aspects of our lives, from transportation and healthcare to education and entertainment. However, it requires careful consideration of the challenges and concerns associated with autonomous decision-making and action.\n"
     ]
    }
   ],
   "source": [
    "for event in graph.stream({\"messages\":\"What is Actually Agentic AI?\"}):\n",
    "    for value in event.values():\n",
    "        print(value[\"messages\"][-1].content)"
   ]
  },
  {
   "cell_type": "code",
   "execution_count": null,
   "id": "7054b22e",
   "metadata": {},
   "outputs": [],
   "source": []
  }
 ],
 "metadata": {
  "kernelspec": {
   "display_name": "End-To-End LangGraph and MCP Agentic AI Project",
   "language": "python",
   "name": "python3"
  },
  "language_info": {
   "codemirror_mode": {
    "name": "ipython",
    "version": 3
   },
   "file_extension": ".py",
   "mimetype": "text/x-python",
   "name": "python",
   "nbconvert_exporter": "python",
   "pygments_lexer": "ipython3",
   "version": "3.12.11"
  }
 },
 "nbformat": 4,
 "nbformat_minor": 5
}
