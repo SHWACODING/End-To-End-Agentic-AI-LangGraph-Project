{
 "cells": [
  {
   "cell_type": "markdown",
   "id": "41fcc5a7",
   "metadata": {},
   "source": [
    "### Human In The Loooop (Human Interaction)..."
   ]
  },
  {
   "cell_type": "code",
   "execution_count": 1,
   "id": "290f8916",
   "metadata": {},
   "outputs": [],
   "source": [
    "import os\n",
    "from dotenv import load_dotenv\n",
    "\n",
    "load_dotenv()\n",
    "\n",
    "os.environ[\"GROQ_API_KEY\"] = os.getenv(\"GROQ_API_KEY\")\n",
    "os.environ[\"TAVILY_API_KEY\"] = os.getenv(\"TAVILY_API_KEY\")"
   ]
  },
  {
   "cell_type": "code",
   "execution_count": 2,
   "id": "dbf04c29",
   "metadata": {},
   "outputs": [
    {
     "data": {
      "text/plain": [
       "ChatGroq(client=<groq.resources.chat.completions.Completions object at 0x00000244ED5E3860>, async_client=<groq.resources.chat.completions.AsyncCompletions object at 0x00000244EE051FA0>, model_name='llama-3.3-70b-versatile', model_kwargs={}, groq_api_key=SecretStr('**********'))"
      ]
     },
     "execution_count": 2,
     "metadata": {},
     "output_type": "execute_result"
    }
   ],
   "source": [
    "from langchain.chat_models import init_chat_model\n",
    "\n",
    "llm = init_chat_model(model=\"groq:llama-3.3-70b-versatile\")\n",
    "\n",
    "llm"
   ]
  },
  {
   "cell_type": "code",
   "execution_count": 3,
   "id": "28b03e96",
   "metadata": {},
   "outputs": [],
   "source": [
    "from typing import TypedDict, Annotated\n",
    "from langgraph.graph.message import add_messages"
   ]
  },
  {
   "cell_type": "code",
   "execution_count": 4,
   "id": "60176c4c",
   "metadata": {},
   "outputs": [],
   "source": [
    "class State(TypedDict):\n",
    "    messages: Annotated[list, add_messages]"
   ]
  },
  {
   "cell_type": "code",
   "execution_count": 5,
   "id": "b4110508",
   "metadata": {},
   "outputs": [],
   "source": [
    "from langchain_tavily import TavilySearch\n",
    "from langchain_core.tools import tool\n",
    "\n",
    "from langgraph.graph import StateGraph, START, END\n",
    "from langgraph.prebuilt import ToolNode, tools_condition\n",
    "from langgraph.checkpoint.memory import MemorySaver\n",
    "\n",
    "from langgraph.types import Command, interrupt"
   ]
  },
  {
   "cell_type": "code",
   "execution_count": 6,
   "id": "5072091c",
   "metadata": {},
   "outputs": [],
   "source": [
    "## Initialize The StateGraph\n",
    "graph_builder = StateGraph(State)"
   ]
  },
  {
   "cell_type": "code",
   "execution_count": 7,
   "id": "1f67e51f",
   "metadata": {},
   "outputs": [],
   "source": [
    "## Create a Custom Human Assistance Tool\n",
    "\n",
    "@tool\n",
    "def human_assistance(query: str) -> str:\n",
    "    \"\"\"Request assistance from a human.\"\"\"\n",
    "    human_response = interrupt({\"query\": query})\n",
    "    return human_response[\"data\"]"
   ]
  },
  {
   "cell_type": "code",
   "execution_count": 8,
   "id": "819d3c96",
   "metadata": {},
   "outputs": [],
   "source": [
    "## Tavily Search Tool\n",
    "\n",
    "tavily_search = TavilySearch(max_results=2)"
   ]
  },
  {
   "cell_type": "code",
   "execution_count": 9,
   "id": "6c4ef3ab",
   "metadata": {},
   "outputs": [],
   "source": [
    "## Combine the tools into a list\n",
    "tools = [human_assistance, tavily_search]"
   ]
  },
  {
   "cell_type": "code",
   "execution_count": 10,
   "id": "44462438",
   "metadata": {},
   "outputs": [],
   "source": [
    "## Combine These Tools with LLM\n",
    "llm_with_tools = llm.bind_tools(tools=tools)"
   ]
  },
  {
   "cell_type": "code",
   "execution_count": 11,
   "id": "be2bec87",
   "metadata": {},
   "outputs": [],
   "source": [
    "def chatbot(state: State):\n",
    "    message = llm_with_tools.invoke(state[\"messages\"])\n",
    "    # Because we will be interrupting during tool execution,\n",
    "    # we disable parallel tool calling to avoid repeating any\n",
    "    # tool invocations when we resume.\n",
    "    return { \"messages\": [message] }"
   ]
  },
  {
   "cell_type": "code",
   "execution_count": 12,
   "id": "7716137f",
   "metadata": {},
   "outputs": [
    {
     "data": {
      "text/plain": [
       "<langgraph.graph.state.StateGraph at 0x244ee3a55b0>"
      ]
     },
     "execution_count": 12,
     "metadata": {},
     "output_type": "execute_result"
    }
   ],
   "source": [
    "## Add The Required Nodes to the Graph\n",
    "graph_builder.add_node(\"SuperChatBot\", chatbot)\n",
    "\n",
    "tool_node = ToolNode(tools=tools)\n",
    "graph_builder.add_node(\"tools\", tool_node)"
   ]
  },
  {
   "cell_type": "code",
   "execution_count": 13,
   "id": "38331f26",
   "metadata": {},
   "outputs": [
    {
     "data": {
      "text/plain": [
       "<langgraph.graph.state.StateGraph at 0x244ee3a55b0>"
      ]
     },
     "execution_count": 13,
     "metadata": {},
     "output_type": "execute_result"
    }
   ],
   "source": [
    "## Add The Required Edges to the Graph\n",
    "graph_builder.add_conditional_edges(\n",
    "    \"SuperChatBot\",\n",
    "    tools_condition\n",
    ")\n",
    "\n",
    "graph_builder.add_edge(\"tools\", \"SuperChatBot\")\n",
    "\n",
    "graph_builder.add_edge(START, \"SuperChatBot\")"
   ]
  },
  {
   "cell_type": "code",
   "execution_count": 14,
   "id": "b9e3d524",
   "metadata": {},
   "outputs": [],
   "source": [
    "## Initialize the memory saver\n",
    "memory = MemorySaver()"
   ]
  },
  {
   "cell_type": "code",
   "execution_count": 15,
   "id": "07bbf6f6",
   "metadata": {},
   "outputs": [],
   "source": [
    "## Compile the graph with memory saver\n",
    "graph = graph_builder.compile(checkpointer=memory)"
   ]
  },
  {
   "cell_type": "code",
   "execution_count": 16,
   "id": "2454b349",
   "metadata": {},
   "outputs": [
    {
     "data": {
      "image/png": "[encoded data removed]",
      "text/plain": [
       "<IPython.core.display.Image object>"
      ]
     },
     "metadata": {},
     "output_type": "display_data"
    }
   ],
   "source": [
    "## Display the graph in Mermaid format\n",
    "\n",
    "from IPython.display import Image, display\n",
    "\n",
    "try:\n",
    "    display(Image(graph.get_graph().draw_mermaid_png()))\n",
    "except Exception:\n",
    "    # This requires some extra dependencies and is optional\n",
    "    pass"
   ]
  },
  {
   "cell_type": "code",
   "execution_count": 20,
   "id": "632f9d1e",
   "metadata": {},
   "outputs": [
    {
     "name": "stdout",
     "output_type": "stream",
     "text": [
      "================================\u001b[1m Human Message \u001b[0m=================================\n",
      "\n",
      "I need some expert Roadmap for building an AI agent. Could you request assistance for me?\n",
      "==================================\u001b[1m Ai Message \u001b[0m==================================\n",
      "Tool Calls:\n",
      "  human_assistance (a7wafxary)\n",
      " Call ID: a7wafxary\n",
      "  Args:\n",
      "    query: Need expert roadmap for building an AI agent\n"
     ]
    }
   ],
   "source": [
    "user_input = \"I need some expert Roadmap for building an AI agent. Could you request assistance for me?\"\n",
    "\n",
    "config = {\"configurable\": {\"thread_id\": \"2\"}}\n",
    "\n",
    "events = graph.stream(\n",
    "    {\"messages\": user_input},\n",
    "    config,\n",
    "    stream_mode=\"values\",\n",
    ")\n",
    "\n",
    "for event in events:\n",
    "    if \"messages\" in event:\n",
    "        event[\"messages\"][-1].pretty_print()"
   ]
  },
  {
   "cell_type": "code",
   "execution_count": 18,
   "id": "aa61c484",
   "metadata": {},
   "outputs": [
    {
     "name": "stdout",
     "output_type": "stream",
     "text": [
      "================================\u001b[1m Human Message \u001b[0m=================================\n",
      "\n",
      "I need some expert guidance and assistance for building an AI agent. Could you request assistance for me?\n",
      "==================================\u001b[1m Ai Message \u001b[0m==================================\n",
      "Tool Calls:\n",
      "  human_assistance (qn8tbvh5r)\n",
      " Call ID: qn8tbvh5r\n",
      "  Args:\n",
      "    query: building an AI agent guidance and assistance\n"
     ]
    }
   ],
   "source": [
    "user_input = \"I need some expert guidance and assistance for building an AI agent. Could you request assistance for me?\"\n",
    "\n",
    "config = {\"configurable\": {\"thread_id\": \"1\"}}\n",
    "\n",
    "events = graph.stream(\n",
    "    {\"messages\": user_input},\n",
    "    config,\n",
    "    stream_mode=\"values\",\n",
    ")\n",
    "\n",
    "for event in events:\n",
    "    if \"messages\" in event:\n",
    "        event[\"messages\"][-1].pretty_print()"
   ]
  },
  {
   "cell_type": "code",
   "execution_count": null,
   "id": "86bab6e1",
   "metadata": {},
   "outputs": [
    {
     "name": "stdout",
     "output_type": "stream",
     "text": [
      "==================================\u001b[1m Ai Message \u001b[0m==================================\n",
      "Tool Calls:\n",
      "  human_assistance (qn8tbvh5r)\n",
      " Call ID: qn8tbvh5r\n",
      "  Args:\n",
      "    query: building an AI agent guidance and assistance\n",
      "=================================\u001b[1m Tool Message \u001b[0m=================================\n",
      "Name: human_assistance\n",
      "\n",
      "We, the experts are here to help! We'd recommend you check out LangGraph to build your agent. It's much more reliable and extensible than simple autonomous agents.\n",
      "==================================\u001b[1m Ai Message \u001b[0m==================================\n",
      "Tool Calls:\n",
      "  human_assistance (cfh1gqkzs)\n",
      " Call ID: cfh1gqkzs\n",
      "  Args:\n",
      "    query: LangGraph and autonomous agent comparison\n"
     ]
    }
   ],
   "source": [
    "human_response = (\n",
    "    \"We, the experts are here to help! We'd recommend you check out LangGraph to build your agent.\"\n",
    "    \" It's much more reliable and extensible than simple autonomous agents.\"\n",
    ")\n",
    "\n",
    "human_command = Command(resume={\"data\": human_response})\n",
    "\n",
    "events = graph.stream(human_command, config, stream_mode=\"values\")\n",
    "\n",
    "for event in events:\n",
    "    if \"messages\" in event:\n",
    "        event[\"messages\"][-1].pretty_print()"
   ]
  },
  {
   "cell_type": "code",
   "execution_count": null,
   "id": "e7d2ee63",
   "metadata": {},
   "outputs": [],
   "source": []
  }
 ],
 "metadata": {
  "kernelspec": {
   "display_name": "End-To-End LangGraph and MCP Agentic AI Project",
   "language": "python",
   "name": "python3"
  },
  "language_info": {
   "codemirror_mode": {
    "name": "ipython",
    "version": 3
   },
   "file_extension": ".py",
   "mimetype": "text/x-python",
   "name": "python",
   "nbconvert_exporter": "python",
   "pygments_lexer": "ipython3",
   "version": "3.12.11"
  }
 },
 "nbformat": 4,
 "nbformat_minor": 5
}
